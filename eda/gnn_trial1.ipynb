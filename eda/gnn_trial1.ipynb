{
 "cells": [
  {
   "cell_type": "code",
   "execution_count": 1,
   "id": "b5541660",
   "metadata": {},
   "outputs": [],
   "source": [
    "import torch\n",
    "import torch.nn as nn\n",
    "import torch.nn.functional as F\n",
    "import torchvision\n",
    "import torchvision.transforms as transforms\n",
    "import sklearn.metrics as metrics\n",
    "\n",
    "import matplotlib.pyplot as plt\n"
   ]
  },
  {
   "cell_type": "code",
   "execution_count": 2,
   "id": "f221b4fa",
   "metadata": {},
   "outputs": [
    {
     "name": "stdout",
     "output_type": "stream",
     "text": [
      "Downloading http://yann.lecun.com/exdb/mnist/train-images-idx3-ubyte.gz\n",
      "Downloading http://yann.lecun.com/exdb/mnist/train-images-idx3-ubyte.gz to ./data/MNIST/raw/train-images-idx3-ubyte.gz\n",
      "\n"
     ]
    },
    {
     "ename": "ImportError",
     "evalue": "IProgress not found. Please update jupyter and ipywidgets. See https://ipywidgets.readthedocs.io/en/stable/user_install.html",
     "output_type": "error",
     "traceback": [
      "\u001b[0;31m---------------------------------------------------------------------------\u001b[0m",
      "\u001b[0;31mImportError\u001b[0m                               Traceback (most recent call last)",
      "\u001b[0;32m/tmp/ipykernel_247640/1965515224.py\u001b[0m in \u001b[0;36m<module>\u001b[0;34m\u001b[0m\n\u001b[1;32m      4\u001b[0m \u001b[0mtransform\u001b[0m \u001b[0;34m=\u001b[0m \u001b[0mtransforms\u001b[0m\u001b[0;34m.\u001b[0m\u001b[0mCompose\u001b[0m\u001b[0;34m(\u001b[0m\u001b[0;34m[\u001b[0m\u001b[0mtransforms\u001b[0m\u001b[0;34m.\u001b[0m\u001b[0mToTensor\u001b[0m\u001b[0;34m(\u001b[0m\u001b[0;34m)\u001b[0m\u001b[0;34m]\u001b[0m\u001b[0;34m)\u001b[0m\u001b[0;34m\u001b[0m\u001b[0;34m\u001b[0m\u001b[0m\n\u001b[1;32m      5\u001b[0m \u001b[0;34m\u001b[0m\u001b[0m\n\u001b[0;32m----> 6\u001b[0;31m \u001b[0mtrainset\u001b[0m \u001b[0;34m=\u001b[0m \u001b[0mtorchvision\u001b[0m\u001b[0;34m.\u001b[0m\u001b[0mdatasets\u001b[0m\u001b[0;34m.\u001b[0m\u001b[0mMNIST\u001b[0m\u001b[0;34m(\u001b[0m\u001b[0mroot\u001b[0m\u001b[0;34m=\u001b[0m\u001b[0;34m\"./data\"\u001b[0m\u001b[0;34m,\u001b[0m \u001b[0mtrain\u001b[0m\u001b[0;34m=\u001b[0m\u001b[0;32mTrue\u001b[0m\u001b[0;34m,\u001b[0m \u001b[0mdownload\u001b[0m\u001b[0;34m=\u001b[0m\u001b[0;32mTrue\u001b[0m\u001b[0;34m,\u001b[0m \u001b[0mtransform\u001b[0m\u001b[0;34m=\u001b[0m\u001b[0mtransform\u001b[0m\u001b[0;34m)\u001b[0m\u001b[0;34m\u001b[0m\u001b[0;34m\u001b[0m\u001b[0m\n\u001b[0m\u001b[1;32m      7\u001b[0m \u001b[0mtestset\u001b[0m \u001b[0;34m=\u001b[0m \u001b[0mtorchvision\u001b[0m\u001b[0;34m.\u001b[0m\u001b[0mdatasets\u001b[0m\u001b[0;34m.\u001b[0m\u001b[0mMNIST\u001b[0m\u001b[0;34m(\u001b[0m\u001b[0mroot\u001b[0m\u001b[0;34m=\u001b[0m\u001b[0;34m\"./data\"\u001b[0m\u001b[0;34m,\u001b[0m \u001b[0mtrain\u001b[0m\u001b[0;34m=\u001b[0m\u001b[0;32mFalse\u001b[0m\u001b[0;34m,\u001b[0m \u001b[0mdownload\u001b[0m\u001b[0;34m=\u001b[0m\u001b[0;32mTrue\u001b[0m\u001b[0;34m,\u001b[0m \u001b[0mtransform\u001b[0m\u001b[0;34m=\u001b[0m\u001b[0mtransform\u001b[0m\u001b[0;34m)\u001b[0m\u001b[0;34m\u001b[0m\u001b[0;34m\u001b[0m\u001b[0m\n",
      "\u001b[0;32m~/miniconda3/envs/graph/lib/python3.8/site-packages/torchvision/datasets/mnist.py\u001b[0m in \u001b[0;36m__init__\u001b[0;34m(self, root, train, transform, target_transform, download)\u001b[0m\n\u001b[1;32m     85\u001b[0m \u001b[0;34m\u001b[0m\u001b[0m\n\u001b[1;32m     86\u001b[0m         \u001b[0;32mif\u001b[0m \u001b[0mdownload\u001b[0m\u001b[0;34m:\u001b[0m\u001b[0;34m\u001b[0m\u001b[0;34m\u001b[0m\u001b[0m\n\u001b[0;32m---> 87\u001b[0;31m             \u001b[0mself\u001b[0m\u001b[0;34m.\u001b[0m\u001b[0mdownload\u001b[0m\u001b[0;34m(\u001b[0m\u001b[0;34m)\u001b[0m\u001b[0;34m\u001b[0m\u001b[0;34m\u001b[0m\u001b[0m\n\u001b[0m\u001b[1;32m     88\u001b[0m \u001b[0;34m\u001b[0m\u001b[0m\n\u001b[1;32m     89\u001b[0m         \u001b[0;32mif\u001b[0m \u001b[0;32mnot\u001b[0m \u001b[0mself\u001b[0m\u001b[0;34m.\u001b[0m\u001b[0m_check_exists\u001b[0m\u001b[0;34m(\u001b[0m\u001b[0;34m)\u001b[0m\u001b[0;34m:\u001b[0m\u001b[0;34m\u001b[0m\u001b[0;34m\u001b[0m\u001b[0m\n",
      "\u001b[0;32m~/miniconda3/envs/graph/lib/python3.8/site-packages/torchvision/datasets/mnist.py\u001b[0m in \u001b[0;36mdownload\u001b[0;34m(self)\u001b[0m\n\u001b[1;32m    174\u001b[0m                 \u001b[0;32mtry\u001b[0m\u001b[0;34m:\u001b[0m\u001b[0;34m\u001b[0m\u001b[0;34m\u001b[0m\u001b[0m\n\u001b[1;32m    175\u001b[0m                     \u001b[0mprint\u001b[0m\u001b[0;34m(\u001b[0m\u001b[0;34m\"Downloading {}\"\u001b[0m\u001b[0;34m.\u001b[0m\u001b[0mformat\u001b[0m\u001b[0;34m(\u001b[0m\u001b[0murl\u001b[0m\u001b[0;34m)\u001b[0m\u001b[0;34m)\u001b[0m\u001b[0;34m\u001b[0m\u001b[0;34m\u001b[0m\u001b[0m\n\u001b[0;32m--> 176\u001b[0;31m                     download_and_extract_archive(\n\u001b[0m\u001b[1;32m    177\u001b[0m                         \u001b[0murl\u001b[0m\u001b[0;34m,\u001b[0m \u001b[0mdownload_root\u001b[0m\u001b[0;34m=\u001b[0m\u001b[0mself\u001b[0m\u001b[0;34m.\u001b[0m\u001b[0mraw_folder\u001b[0m\u001b[0;34m,\u001b[0m\u001b[0;34m\u001b[0m\u001b[0;34m\u001b[0m\u001b[0m\n\u001b[1;32m    178\u001b[0m                         \u001b[0mfilename\u001b[0m\u001b[0;34m=\u001b[0m\u001b[0mfilename\u001b[0m\u001b[0;34m,\u001b[0m\u001b[0;34m\u001b[0m\u001b[0;34m\u001b[0m\u001b[0m\n",
      "\u001b[0;32m~/miniconda3/envs/graph/lib/python3.8/site-packages/torchvision/datasets/utils.py\u001b[0m in \u001b[0;36mdownload_and_extract_archive\u001b[0;34m(url, download_root, extract_root, filename, md5, remove_finished)\u001b[0m\n\u001b[1;32m    411\u001b[0m         \u001b[0mfilename\u001b[0m \u001b[0;34m=\u001b[0m \u001b[0mos\u001b[0m\u001b[0;34m.\u001b[0m\u001b[0mpath\u001b[0m\u001b[0;34m.\u001b[0m\u001b[0mbasename\u001b[0m\u001b[0;34m(\u001b[0m\u001b[0murl\u001b[0m\u001b[0;34m)\u001b[0m\u001b[0;34m\u001b[0m\u001b[0;34m\u001b[0m\u001b[0m\n\u001b[1;32m    412\u001b[0m \u001b[0;34m\u001b[0m\u001b[0m\n\u001b[0;32m--> 413\u001b[0;31m     \u001b[0mdownload_url\u001b[0m\u001b[0;34m(\u001b[0m\u001b[0murl\u001b[0m\u001b[0;34m,\u001b[0m \u001b[0mdownload_root\u001b[0m\u001b[0;34m,\u001b[0m \u001b[0mfilename\u001b[0m\u001b[0;34m,\u001b[0m \u001b[0mmd5\u001b[0m\u001b[0;34m)\u001b[0m\u001b[0;34m\u001b[0m\u001b[0;34m\u001b[0m\u001b[0m\n\u001b[0m\u001b[1;32m    414\u001b[0m \u001b[0;34m\u001b[0m\u001b[0m\n\u001b[1;32m    415\u001b[0m     \u001b[0marchive\u001b[0m \u001b[0;34m=\u001b[0m \u001b[0mos\u001b[0m\u001b[0;34m.\u001b[0m\u001b[0mpath\u001b[0m\u001b[0;34m.\u001b[0m\u001b[0mjoin\u001b[0m\u001b[0;34m(\u001b[0m\u001b[0mdownload_root\u001b[0m\u001b[0;34m,\u001b[0m \u001b[0mfilename\u001b[0m\u001b[0;34m)\u001b[0m\u001b[0;34m\u001b[0m\u001b[0;34m\u001b[0m\u001b[0m\n",
      "\u001b[0;32m~/miniconda3/envs/graph/lib/python3.8/site-packages/torchvision/datasets/utils.py\u001b[0m in \u001b[0;36mdownload_url\u001b[0;34m(url, root, filename, md5, max_redirect_hops)\u001b[0m\n\u001b[1;32m    137\u001b[0m         \u001b[0;32mtry\u001b[0m\u001b[0;34m:\u001b[0m\u001b[0;34m\u001b[0m\u001b[0;34m\u001b[0m\u001b[0m\n\u001b[1;32m    138\u001b[0m             \u001b[0mprint\u001b[0m\u001b[0;34m(\u001b[0m\u001b[0;34m'Downloading '\u001b[0m \u001b[0;34m+\u001b[0m \u001b[0murl\u001b[0m \u001b[0;34m+\u001b[0m \u001b[0;34m' to '\u001b[0m \u001b[0;34m+\u001b[0m \u001b[0mfpath\u001b[0m\u001b[0;34m)\u001b[0m\u001b[0;34m\u001b[0m\u001b[0;34m\u001b[0m\u001b[0m\n\u001b[0;32m--> 139\u001b[0;31m             \u001b[0m_urlretrieve\u001b[0m\u001b[0;34m(\u001b[0m\u001b[0murl\u001b[0m\u001b[0;34m,\u001b[0m \u001b[0mfpath\u001b[0m\u001b[0;34m)\u001b[0m\u001b[0;34m\u001b[0m\u001b[0;34m\u001b[0m\u001b[0m\n\u001b[0m\u001b[1;32m    140\u001b[0m         \u001b[0;32mexcept\u001b[0m \u001b[0;34m(\u001b[0m\u001b[0murllib\u001b[0m\u001b[0;34m.\u001b[0m\u001b[0merror\u001b[0m\u001b[0;34m.\u001b[0m\u001b[0mURLError\u001b[0m\u001b[0;34m,\u001b[0m \u001b[0mIOError\u001b[0m\u001b[0;34m)\u001b[0m \u001b[0;32mas\u001b[0m \u001b[0me\u001b[0m\u001b[0;34m:\u001b[0m  \u001b[0;31m# type: ignore[attr-defined]\u001b[0m\u001b[0;34m\u001b[0m\u001b[0;34m\u001b[0m\u001b[0m\n\u001b[1;32m    141\u001b[0m             \u001b[0;32mif\u001b[0m \u001b[0murl\u001b[0m\u001b[0;34m[\u001b[0m\u001b[0;34m:\u001b[0m\u001b[0;36m5\u001b[0m\u001b[0;34m]\u001b[0m \u001b[0;34m==\u001b[0m \u001b[0;34m'https'\u001b[0m\u001b[0;34m:\u001b[0m\u001b[0;34m\u001b[0m\u001b[0;34m\u001b[0m\u001b[0m\n",
      "\u001b[0;32m~/miniconda3/envs/graph/lib/python3.8/site-packages/torchvision/datasets/utils.py\u001b[0m in \u001b[0;36m_urlretrieve\u001b[0;34m(url, filename, chunk_size)\u001b[0m\n\u001b[1;32m     30\u001b[0m     \u001b[0;32mwith\u001b[0m \u001b[0mopen\u001b[0m\u001b[0;34m(\u001b[0m\u001b[0mfilename\u001b[0m\u001b[0;34m,\u001b[0m \u001b[0;34m\"wb\"\u001b[0m\u001b[0;34m)\u001b[0m \u001b[0;32mas\u001b[0m \u001b[0mfh\u001b[0m\u001b[0;34m:\u001b[0m\u001b[0;34m\u001b[0m\u001b[0;34m\u001b[0m\u001b[0m\n\u001b[1;32m     31\u001b[0m         \u001b[0;32mwith\u001b[0m \u001b[0murllib\u001b[0m\u001b[0;34m.\u001b[0m\u001b[0mrequest\u001b[0m\u001b[0;34m.\u001b[0m\u001b[0murlopen\u001b[0m\u001b[0;34m(\u001b[0m\u001b[0murllib\u001b[0m\u001b[0;34m.\u001b[0m\u001b[0mrequest\u001b[0m\u001b[0;34m.\u001b[0m\u001b[0mRequest\u001b[0m\u001b[0;34m(\u001b[0m\u001b[0murl\u001b[0m\u001b[0;34m,\u001b[0m \u001b[0mheaders\u001b[0m\u001b[0;34m=\u001b[0m\u001b[0;34m{\u001b[0m\u001b[0;34m\"User-Agent\"\u001b[0m\u001b[0;34m:\u001b[0m \u001b[0mUSER_AGENT\u001b[0m\u001b[0;34m}\u001b[0m\u001b[0;34m)\u001b[0m\u001b[0;34m)\u001b[0m \u001b[0;32mas\u001b[0m \u001b[0mresponse\u001b[0m\u001b[0;34m:\u001b[0m\u001b[0;34m\u001b[0m\u001b[0;34m\u001b[0m\u001b[0m\n\u001b[0;32m---> 32\u001b[0;31m             \u001b[0;32mwith\u001b[0m \u001b[0mtqdm\u001b[0m\u001b[0;34m(\u001b[0m\u001b[0mtotal\u001b[0m\u001b[0;34m=\u001b[0m\u001b[0mresponse\u001b[0m\u001b[0;34m.\u001b[0m\u001b[0mlength\u001b[0m\u001b[0;34m)\u001b[0m \u001b[0;32mas\u001b[0m \u001b[0mpbar\u001b[0m\u001b[0;34m:\u001b[0m\u001b[0;34m\u001b[0m\u001b[0;34m\u001b[0m\u001b[0m\n\u001b[0m\u001b[1;32m     33\u001b[0m                 \u001b[0;32mfor\u001b[0m \u001b[0mchunk\u001b[0m \u001b[0;32min\u001b[0m \u001b[0miter\u001b[0m\u001b[0;34m(\u001b[0m\u001b[0;32mlambda\u001b[0m\u001b[0;34m:\u001b[0m \u001b[0mresponse\u001b[0m\u001b[0;34m.\u001b[0m\u001b[0mread\u001b[0m\u001b[0;34m(\u001b[0m\u001b[0mchunk_size\u001b[0m\u001b[0;34m)\u001b[0m\u001b[0;34m,\u001b[0m \u001b[0;34m\"\"\u001b[0m\u001b[0;34m)\u001b[0m\u001b[0;34m:\u001b[0m\u001b[0;34m\u001b[0m\u001b[0;34m\u001b[0m\u001b[0m\n\u001b[1;32m     34\u001b[0m                     \u001b[0;32mif\u001b[0m \u001b[0;32mnot\u001b[0m \u001b[0mchunk\u001b[0m\u001b[0;34m:\u001b[0m\u001b[0;34m\u001b[0m\u001b[0;34m\u001b[0m\u001b[0m\n",
      "\u001b[0;32m~/miniconda3/envs/graph/lib/python3.8/site-packages/tqdm/notebook.py\u001b[0m in \u001b[0;36m__init__\u001b[0;34m(self, *args, **kwargs)\u001b[0m\n\u001b[1;32m    240\u001b[0m         \u001b[0munit_scale\u001b[0m \u001b[0;34m=\u001b[0m \u001b[0;36m1\u001b[0m \u001b[0;32mif\u001b[0m \u001b[0mself\u001b[0m\u001b[0;34m.\u001b[0m\u001b[0munit_scale\u001b[0m \u001b[0;32mis\u001b[0m \u001b[0;32mTrue\u001b[0m \u001b[0;32melse\u001b[0m \u001b[0mself\u001b[0m\u001b[0;34m.\u001b[0m\u001b[0munit_scale\u001b[0m \u001b[0;32mor\u001b[0m \u001b[0;36m1\u001b[0m\u001b[0;34m\u001b[0m\u001b[0;34m\u001b[0m\u001b[0m\n\u001b[1;32m    241\u001b[0m         \u001b[0mtotal\u001b[0m \u001b[0;34m=\u001b[0m \u001b[0mself\u001b[0m\u001b[0;34m.\u001b[0m\u001b[0mtotal\u001b[0m \u001b[0;34m*\u001b[0m \u001b[0munit_scale\u001b[0m \u001b[0;32mif\u001b[0m \u001b[0mself\u001b[0m\u001b[0;34m.\u001b[0m\u001b[0mtotal\u001b[0m \u001b[0;32melse\u001b[0m \u001b[0mself\u001b[0m\u001b[0;34m.\u001b[0m\u001b[0mtotal\u001b[0m\u001b[0;34m\u001b[0m\u001b[0;34m\u001b[0m\u001b[0m\n\u001b[0;32m--> 242\u001b[0;31m         \u001b[0mself\u001b[0m\u001b[0;34m.\u001b[0m\u001b[0mcontainer\u001b[0m \u001b[0;34m=\u001b[0m \u001b[0mself\u001b[0m\u001b[0;34m.\u001b[0m\u001b[0mstatus_printer\u001b[0m\u001b[0;34m(\u001b[0m\u001b[0mself\u001b[0m\u001b[0;34m.\u001b[0m\u001b[0mfp\u001b[0m\u001b[0;34m,\u001b[0m \u001b[0mtotal\u001b[0m\u001b[0;34m,\u001b[0m \u001b[0mself\u001b[0m\u001b[0;34m.\u001b[0m\u001b[0mdesc\u001b[0m\u001b[0;34m,\u001b[0m \u001b[0mself\u001b[0m\u001b[0;34m.\u001b[0m\u001b[0mncols\u001b[0m\u001b[0;34m)\u001b[0m\u001b[0;34m\u001b[0m\u001b[0;34m\u001b[0m\u001b[0m\n\u001b[0m\u001b[1;32m    243\u001b[0m         \u001b[0mself\u001b[0m\u001b[0;34m.\u001b[0m\u001b[0mcontainer\u001b[0m\u001b[0;34m.\u001b[0m\u001b[0mpbar\u001b[0m \u001b[0;34m=\u001b[0m \u001b[0mproxy\u001b[0m\u001b[0;34m(\u001b[0m\u001b[0mself\u001b[0m\u001b[0;34m)\u001b[0m\u001b[0;34m\u001b[0m\u001b[0;34m\u001b[0m\u001b[0m\n\u001b[1;32m    244\u001b[0m         \u001b[0mself\u001b[0m\u001b[0;34m.\u001b[0m\u001b[0mdisplayed\u001b[0m \u001b[0;34m=\u001b[0m \u001b[0;32mFalse\u001b[0m\u001b[0;34m\u001b[0m\u001b[0;34m\u001b[0m\u001b[0m\n",
      "\u001b[0;32m~/miniconda3/envs/graph/lib/python3.8/site-packages/tqdm/notebook.py\u001b[0m in \u001b[0;36mstatus_printer\u001b[0;34m(_, total, desc, ncols)\u001b[0m\n\u001b[1;32m    113\u001b[0m         \u001b[0;31m# Prepare IPython progress bar\u001b[0m\u001b[0;34m\u001b[0m\u001b[0;34m\u001b[0m\u001b[0;34m\u001b[0m\u001b[0m\n\u001b[1;32m    114\u001b[0m         \u001b[0;32mif\u001b[0m \u001b[0mIProgress\u001b[0m \u001b[0;32mis\u001b[0m \u001b[0;32mNone\u001b[0m\u001b[0;34m:\u001b[0m  \u001b[0;31m# #187 #451 #558 #872\u001b[0m\u001b[0;34m\u001b[0m\u001b[0;34m\u001b[0m\u001b[0m\n\u001b[0;32m--> 115\u001b[0;31m             raise ImportError(\n\u001b[0m\u001b[1;32m    116\u001b[0m                 \u001b[0;34m\"IProgress not found. Please update jupyter and ipywidgets.\"\u001b[0m\u001b[0;34m\u001b[0m\u001b[0;34m\u001b[0m\u001b[0m\n\u001b[1;32m    117\u001b[0m                 \u001b[0;34m\" See https://ipywidgets.readthedocs.io/en/stable\"\u001b[0m\u001b[0;34m\u001b[0m\u001b[0;34m\u001b[0m\u001b[0m\n",
      "\u001b[0;31mImportError\u001b[0m: IProgress not found. Please update jupyter and ipywidgets. See https://ipywidgets.readthedocs.io/en/stable/user_install.html"
     ]
    }
   ],
   "source": [
    "BATCH_SIZE = 32\n",
    "\n",
    "\n",
    "transform = transforms.Compose([transforms.ToTensor()])\n",
    "\n",
    "trainset = torchvision.datasets.MNIST(root=\"./data\", train=True, download=True, transform=transform)\n",
    "testset = torchvision.datasets.MNIST(root=\"./data\", train=False, download=True, transform=transform)"
   ]
  },
  {
   "cell_type": "code",
   "execution_count": 3,
   "id": "ba1ba778",
   "metadata": {},
   "outputs": [],
   "source": [
    "trainloader = torch.utils.data.DataLoader(trainset, batch_size=BATCH_SIZE, shuffle=True, num_workers=2)\n",
    "testloader = torch.utils.data.DataLoader(testset, batch_size=BATCH_SIZE, shuffle=True, num_workers=2)"
   ]
  },
  {
   "cell_type": "code",
   "execution_count": 4,
   "id": "256f22f3",
   "metadata": {},
   "outputs": [
    {
     "data": {
      "text/plain": [
       "Text(0.5, 1.0, 'Label : 5')"
      ]
     },
     "execution_count": 4,
     "metadata": {},
     "output_type": "execute_result"
    },
    {
     "data": {
      "image/png": "[encoded data removed]",
      "text/plain": [
       "<Figure size 432x288 with 1 Axes>"
      ]
     },
     "metadata": {
      "needs_background": "light"
     },
     "output_type": "display_data"
    }
   ],
   "source": [
    "plt.figure()\n",
    "x, y = trainset[0]\n",
    "plt.imshow(x[0])\n",
    "plt.title(f'Label : {y}')"
   ]
  },
  {
   "cell_type": "code",
   "execution_count": 31,
   "id": "dd260b65",
   "metadata": {},
   "outputs": [],
   "source": [
    "class MyModel(nn.Module):\n",
    "    def __init__(self):\n",
    "        super(MyModel, self).__init__()\n",
    "        \n",
    "        self.conv1 = nn.Conv2d(in_channels=1, out_channels=32, kernel_size=3)\n",
    "        self.d1 = nn.Linear(26 * 26 * 32, 128)\n",
    "        self.d2 = nn.Linear(128, 10)\n",
    "    \n",
    "    def forward(self, x):\n",
    "        x = self.conv1(x)\n",
    "        x = F.relu(x)\n",
    "        \n",
    "        x = x.flatten(start_dim=1)\n",
    "        \n",
    "        x = self.d1(x)\n",
    "        x = F.relu(x)\n",
    "        \n",
    "        logits = self.d2(x)\n",
    "        out = F.softmax(logits, dim=1)\n",
    "\n",
    "        return out\n",
    "    "
   ]
  },
  {
   "cell_type": "code",
   "execution_count": 47,
   "id": "17dcbe48",
   "metadata": {},
   "outputs": [
    {
     "name": "stdout",
     "output_type": "stream",
     "text": [
      "Epoch: 0 | Loss: 1.6417 | Train Accuracy: 0.82\n",
      "Epoch: 1 | Loss: 1.5585 | Train Accuracy: 0.90\n",
      "Epoch: 2 | Loss: 1.4847 | Train Accuracy: 0.98\n",
      "Epoch: 3 | Loss: 1.4780 | Train Accuracy: 0.99\n",
      "Epoch: 4 | Loss: 1.4742 | Train Accuracy: 0.99\n"
     ]
    }
   ],
   "source": [
    "lr = 0.001\n",
    "num_epoch = 5\n",
    "model = MyModel()\n",
    "criterion = nn.CrossEntropyLoss()\n",
    "optimizer = torch.optim.Adam(model.parameters(), lr=lr)\n",
    "\n",
    "for epoch in range(num_epoch):\n",
    "    running_loss = .0\n",
    "    train_acc = .0\n",
    "    for i, (X, y) in enumerate(trainloader):\n",
    "        logits = model(X)\n",
    "        loss = criterion(logits, y)\n",
    "        optimizer.zero_grad()\n",
    "        loss.backward()\n",
    "        \n",
    "        optimizer.step()\n",
    "        running_loss += loss.detach().item()\n",
    "        \n",
    "        pred_class = torch.argmax(logits, 1).flatten()\n",
    "        train_acc += (pred_class == y).type(torch.float).mean().item()\n",
    "    \n",
    "    print(f\"Epoch: {epoch} | Loss: {running_loss/i:.4f} | Train Accuracy: {train_acc/i:.2f}\")\n",
    "        "
   ]
  },
  {
   "cell_type": "code",
   "execution_count": 41,
   "id": "cc5c7fae",
   "metadata": {},
   "outputs": [
    {
     "data": {
      "text/plain": [
       "tensor([False,  True, False, False, False, False, False, False,  True, False,\n",
       "        False, False,  True, False, False, False, False, False, False,  True,\n",
       "        False, False, False, False, False, False, False, False, False, False,\n",
       "        False, False])"
      ]
     },
     "execution_count": 41,
     "metadata": {},
     "output_type": "execute_result"
    }
   ],
   "source": [
    "torch.argmax(out, 1) == y"
   ]
  },
  {
   "cell_type": "code",
   "execution_count": 42,
   "id": "36508707",
   "metadata": {},
   "outputs": [
    {
     "data": {
      "text/plain": [
       "torch.Size([32])"
      ]
     },
     "execution_count": 42,
     "metadata": {},
     "output_type": "execute_result"
    }
   ],
   "source": [
    "y.shape"
   ]
  },
  {
   "cell_type": "code",
   "execution_count": 3,
   "id": "4765da24",
   "metadata": {},
   "outputs": [],
   "source": [
    "import torch_geometric.nn as pyg_nn\n",
    "import torch_geometric.utils as pyg_utils\n",
    "\n",
    "import time\n",
    "from datetime import datetime\n",
    "\n",
    "import networkx as nx\n",
    "import numpy as np\n",
    "\n",
    "from torch_geometric.datasets import TUDataset\n",
    "from torch_geometric.datasets import Planetoid\n",
    "from torch_geometric.data import DataLoader\n",
    "\n",
    "import torch_geometric.transforms as T\n",
    "from tensorboardX import SummaryWriter\n",
    "from sklearn.manifold import TSNE\n",
    "import matplotlib.pyplot as plt"
   ]
  },
  {
   "cell_type": "code",
   "execution_count": 4,
   "id": "db67ef66",
   "metadata": {},
   "outputs": [],
   "source": [
    "class GNNStack(nn.Module):\n",
    "    def __init__(self, input_dim, hidden_dim, output_dim, task=\"node\"):\n",
    "        self.task = task\n",
    "        self.convs = nn.ModuleList()\n",
    "        self.convs.append(self.build_conv_model(input_dim, hidden_dim))\n",
    "        for l in range(2):\n",
    "            self.convs.append(self.build_conv_model(hidden_dim, hidden_dim))\n",
    "        \n",
    "        # post message passing\n",
    "        self.post_mp = nn.Sequential(\n",
    "            nn.Linear(hidden_dim, hidden_dim),\n",
    "            nn.Dropout(0.25),\n",
    "            nn.Linear(hidden_dim, output_dim))\n",
    "        \n",
    "        self.lns = nn.ModuleList()\n",
    "        self.lns.append(nn.LayerNorm(hidden_dim))\n",
    "        self.lns.append(nn.LayerNorm(hidden_dim))\n",
    "\n",
    "        self.dropout = 0.25\n",
    "        self.num_layers = 3\n",
    "\n",
    "    def build_conv_model(self, input_dim, hidden_dim):\n",
    "        if self.task == \"node\":\n",
    "            return pyg_nn.GCNConv(input_dim, hidden_dim)\n",
    "        else:\n",
    "            return pyg_nn.GINConv(nn.Sequential(\n",
    "                nn.Linear(input_dim, hidden_dim),\n",
    "                nn.ReLU(),\n",
    "                nn.Linear(hidden_dim, hidden_dim)\n",
    "            ))\n",
    "    \n",
    "    def forward(self, data):\n",
    "        x, edge_index, batch = data.x, data.edge_index, data.batch\n",
    "        if data.num_node_features == 0:\n",
    "            x = torch.ones(data.num_nodes, 1)\n",
    "\n",
    "        for i in range(self.num_layers):\n",
    "            x = self.convs[i](x, edge_index)\n",
    "            emb = x  # later visualize\n",
    "            x = F.relu(x)\n",
    "            x = F.dropout(x, p=self.dropout, training=self.training)\n",
    "            if i != self.num_layers - 1:\n",
    "                x = self.lns[i](x)\n",
    "            \n",
    "        if self.task == \"graph\":\n",
    "            x = pyg_nn.global_mean_pool(x, batch)\n",
    "        \n",
    "        x = self.post_mp(x)\n",
    "        \n",
    "        return emb, F.log_softmax(x, dim=1)\n",
    "\n",
    "    def loss(self, pred, label):\n",
    "        return F.nll_loss(pred, label)"
   ]
  },
  {
   "cell_type": "code",
   "execution_count": 5,
   "id": "9d1bcd7d",
   "metadata": {},
   "outputs": [],
   "source": [
    "def train(dataset, task, writer):\n",
    "    if task == \"graph\":\n",
    "        data_size = len(dataset)\n",
    "        loader = DataLoader(dataset[:int(data_size * 0.8)], batch_size=64, shuffle=True)\n",
    "        test_loader = DataLoader(dataset[int(data_size * 0.8):], batch_size=64, shuffle=True)\n",
    "    else:\n",
    "        test_loader = DataLoader(dataset, batch_size=64, shuffle=True)\n",
    "    \n",
    "    # build model\n",
    "    model = GNNStack(input_dim=max(dataset.num_node_features, 1), \n",
    "                     hidden_dim=32, \n",
    "                     output_dim=dataset.num_classes, task=task)\n",
    "    opt = optim.Adam(model.parameters(), lr=0.01)\n",
    "\n",
    "    # train\n",
    "    for epoch in range(200):\n",
    "        total_loss = 0\n",
    "        model.train()\n",
    "        for batch in loader:\n",
    "            opt.zero_grad()\n",
    "            embedding, pred = model(batch)\n",
    "            label = batch.y\n",
    "            if task == \"node\":\n",
    "                pred = pred[batch.train_mask]\n",
    "                label = label[batch.train_mask]\n",
    "            loss = model.loss(pred, label)\n",
    "            loss.backward()\n",
    "            opt.step()\n",
    "            total_loss += loss.item() * batch.num_graphs\n",
    "        total_loss /= len(loader.dataset)\n",
    "        writer.add_scaler(\"loss\", total_loss, epoch)\n",
    "        \n",
    "        if epoch % 10 == 0:\n",
    "            test_acc = test(test_loader, model)\n",
    "            print(\"Epoch {}. Loss: {:.4f}. Test accuracy: {:.4f}\".format(\n",
    "                epoch, total_loss, test_acc))\n",
    "            writer.add_scalar(\"test accuracy\", test_acc, epoch)\n",
    "    \n",
    "    return model   \n",
    "    "
   ]
  },
  {
   "cell_type": "code",
   "execution_count": 6,
   "id": "dea4b6a5",
   "metadata": {},
   "outputs": [],
   "source": [
    "def test(loader, model, is_validation=False):\n",
    "    model.eval()\n",
    "    \n",
    "    correct = 0\n",
    "    for data in loader:\n",
    "        with torch.no_grad():\n",
    "            emb, pred = model(data)\n",
    "            pred = pred.argmax(dim=1)\n",
    "            label = data.y\n",
    "\n",
    "        if model.task == \"node\":\n",
    "            mask = data.val_mask if is_validation else data.test_mask\n",
    "            pred = pred[mask]\n",
    "            label = data.y[mask]\n",
    "        \n",
    "        correct += pred.eq(label).sum().item()\n",
    "    \n",
    "    if model.task == \"graph\":\n",
    "        total = len(loader.dataset)\n",
    "    else:\n",
    "        total = 0\n",
    "        for data in loader.dataset:\n",
    "            total += torch.sum(data.test_mask).item()\n",
    "    \n",
    "    return correct / total"
   ]
  },
  {
   "cell_type": "code",
   "execution_count": 7,
   "id": "22a728be",
   "metadata": {},
   "outputs": [
    {
     "name": "stderr",
     "output_type": "stream",
     "text": [
      "Downloading https://www.chrsmrrs.com/graphkerneldatasets/ENZYMES.zip\n",
      "Extracting /tmp/ENZYMES/ENZYMES/ENZYMES.zip\n",
      "Processing...\n",
      "Done!\n"
     ]
    }
   ],
   "source": [
    "writer = SummaryWriter(\"./log/\" + datetime.now().strftime(\"%Y%m%d-%H%M%S\"))\n",
    "\n",
    "dataset = TUDataset(root=\"/tmp/ENZYMES\", name=\"ENZYMES\")\n",
    "dataset = dataset.shuffle()\n",
    "task = \"graph\"\n",
    "\n",
    "# model = train(dataset, task, writer)\n"
   ]
  },
  {
   "cell_type": "code",
   "execution_count": 8,
   "id": "85ff2dbf",
   "metadata": {},
   "outputs": [
    {
     "name": "stderr",
     "output_type": "stream",
     "text": [
      "/home/b021/miniconda3/envs/graph/lib/python3.8/site-packages/torch_geometric/deprecation.py:13: UserWarning: 'data.DataLoader' is deprecated, use 'loader.DataLoader' instead\n",
      "  warnings.warn(out)\n"
     ]
    }
   ],
   "source": [
    "data_size = len(dataset)\n",
    "loader = DataLoader(dataset[:int(data_size * 0.8)], batch_size=64, shuffle=True)\n",
    "test_loader = DataLoader(dataset[int(data_size * 0.8):], batch_size=64, shuffle=True)"
   ]
  },
  {
   "cell_type": "code",
   "execution_count": 9,
   "id": "0e7e5872",
   "metadata": {},
   "outputs": [
    {
     "name": "stdout",
     "output_type": "stream",
     "text": [
      "Data(edge_index=[2, 96], x=[21, 3], y=[1])\n",
      "Data(edge_index=[2, 44], x=[12, 3], y=[1])\n",
      "Data(edge_index=[2, 164], x=[42, 3], y=[1])\n",
      "Data(edge_index=[2, 70], x=[18, 3], y=[1])\n",
      "Data(edge_index=[2, 230], x=[59, 3], y=[1])\n",
      "Data(edge_index=[2, 44], x=[11, 3], y=[1])\n",
      "Data(edge_index=[2, 106], x=[27, 3], y=[1])\n",
      "Data(edge_index=[2, 208], x=[48, 3], y=[1])\n",
      "Data(edge_index=[2, 40], x=[10, 3], y=[1])\n",
      "Data(edge_index=[2, 102], x=[26, 3], y=[1])\n",
      "Data(edge_index=[2, 140], x=[38, 3], y=[1])\n",
      "Data(edge_index=[2, 156], x=[36, 3], y=[1])\n",
      "Data(edge_index=[2, 182], x=[38, 3], y=[1])\n",
      "Data(edge_index=[2, 90], x=[25, 3], y=[1])\n",
      "Data(edge_index=[2, 120], x=[38, 3], y=[1])\n",
      "Data(edge_index=[2, 196], x=[50, 3], y=[1])\n",
      "Data(edge_index=[2, 68], x=[18, 3], y=[1])\n",
      "Data(edge_index=[2, 100], x=[23, 3], y=[1])\n",
      "Data(edge_index=[2, 6], x=[3, 3], y=[1])\n",
      "Data(edge_index=[2, 30], x=[8, 3], y=[1])\n",
      "Data(edge_index=[2, 48], x=[12, 3], y=[1])\n",
      "Data(edge_index=[2, 84], x=[19, 3], y=[1])\n",
      "Data(edge_index=[2, 158], x=[34, 3], y=[1])\n",
      "Data(edge_index=[2, 228], x=[52, 3], y=[1])\n",
      "Data(edge_index=[2, 170], x=[44, 3], y=[1])\n",
      "Data(edge_index=[2, 112], x=[27, 3], y=[1])\n",
      "Data(edge_index=[2, 92], x=[22, 3], y=[1])\n",
      "Data(edge_index=[2, 170], x=[44, 3], y=[1])\n",
      "Data(edge_index=[2, 184], x=[50, 3], y=[1])\n",
      "Data(edge_index=[2, 154], x=[36, 3], y=[1])\n",
      "Data(edge_index=[2, 62], x=[18, 3], y=[1])\n",
      "Data(edge_index=[2, 152], x=[38, 3], y=[1])\n",
      "Data(edge_index=[2, 92], x=[22, 3], y=[1])\n",
      "Data(edge_index=[2, 74], x=[18, 3], y=[1])\n",
      "Data(edge_index=[2, 50], x=[14, 3], y=[1])\n",
      "Data(edge_index=[2, 164], x=[42, 3], y=[1])\n",
      "Data(edge_index=[2, 50], x=[12, 3], y=[1])\n",
      "Data(edge_index=[2, 58], x=[14, 3], y=[1])\n",
      "Data(edge_index=[2, 76], x=[22, 3], y=[1])\n",
      "Data(edge_index=[2, 78], x=[23, 3], y=[1])\n",
      "Data(edge_index=[2, 66], x=[14, 3], y=[1])\n",
      "Data(edge_index=[2, 114], x=[30, 3], y=[1])\n",
      "Data(edge_index=[2, 92], x=[24, 3], y=[1])\n",
      "Data(edge_index=[2, 190], x=[51, 3], y=[1])\n",
      "Data(edge_index=[2, 90], x=[24, 3], y=[1])\n",
      "Data(edge_index=[2, 76], x=[20, 3], y=[1])\n",
      "Data(edge_index=[2, 38], x=[11, 3], y=[1])\n",
      "Data(edge_index=[2, 32], x=[8, 3], y=[1])\n",
      "Data(edge_index=[2, 182], x=[45, 3], y=[1])\n",
      "Data(edge_index=[2, 194], x=[45, 3], y=[1])\n",
      "Data(edge_index=[2, 160], x=[67, 3], y=[1])\n",
      "Data(edge_index=[2, 82], x=[20, 3], y=[1])\n",
      "Data(edge_index=[2, 62], x=[14, 3], y=[1])\n",
      "Data(edge_index=[2, 136], x=[33, 3], y=[1])\n",
      "Data(edge_index=[2, 132], x=[29, 3], y=[1])\n",
      "Data(edge_index=[2, 136], x=[32, 3], y=[1])\n",
      "Data(edge_index=[2, 44], x=[13, 3], y=[1])\n",
      "Data(edge_index=[2, 184], x=[49, 3], y=[1])\n",
      "Data(edge_index=[2, 44], x=[12, 3], y=[1])\n",
      "Data(edge_index=[2, 98], x=[26, 3], y=[1])\n",
      "Data(edge_index=[2, 96], x=[23, 3], y=[1])\n",
      "Data(edge_index=[2, 82], x=[29, 3], y=[1])\n",
      "Data(edge_index=[2, 196], x=[43, 3], y=[1])\n",
      "Data(edge_index=[2, 130], x=[29, 3], y=[1])\n",
      "Data(edge_index=[2, 144], x=[40, 3], y=[1])\n",
      "Data(edge_index=[2, 74], x=[20, 3], y=[1])\n",
      "Data(edge_index=[2, 112], x=[25, 3], y=[1])\n",
      "Data(edge_index=[2, 210], x=[57, 3], y=[1])\n",
      "Data(edge_index=[2, 16], x=[9, 3], y=[1])\n",
      "Data(edge_index=[2, 168], x=[37, 3], y=[1])\n",
      "Data(edge_index=[2, 74], x=[24, 3], y=[1])\n",
      "Data(edge_index=[2, 142], x=[33, 3], y=[1])\n",
      "Data(edge_index=[2, 164], x=[42, 3], y=[1])\n",
      "Data(edge_index=[2, 120], x=[32, 3], y=[1])\n",
      "Data(edge_index=[2, 194], x=[55, 3], y=[1])\n",
      "Data(edge_index=[2, 202], x=[44, 3], y=[1])\n",
      "Data(edge_index=[2, 152], x=[34, 3], y=[1])\n",
      "Data(edge_index=[2, 52], x=[15, 3], y=[1])\n",
      "Data(edge_index=[2, 56], x=[14, 3], y=[1])\n",
      "Data(edge_index=[2, 106], x=[21, 3], y=[1])\n",
      "Data(edge_index=[2, 114], x=[26, 3], y=[1])\n",
      "Data(edge_index=[2, 86], x=[24, 3], y=[1])\n",
      "Data(edge_index=[2, 118], x=[40, 3], y=[1])\n",
      "Data(edge_index=[2, 102], x=[27, 3], y=[1])\n",
      "Data(edge_index=[2, 60], x=[17, 3], y=[1])\n",
      "Data(edge_index=[2, 158], x=[41, 3], y=[1])\n",
      "Data(edge_index=[2, 110], x=[25, 3], y=[1])\n",
      "Data(edge_index=[2, 124], x=[28, 3], y=[1])\n",
      "Data(edge_index=[2, 120], x=[30, 3], y=[1])\n",
      "Data(edge_index=[2, 128], x=[33, 3], y=[1])\n",
      "Data(edge_index=[2, 90], x=[20, 3], y=[1])\n",
      "Data(edge_index=[2, 98], x=[26, 3], y=[1])\n",
      "Data(edge_index=[2, 186], x=[46, 3], y=[1])\n",
      "Data(edge_index=[2, 98], x=[26, 3], y=[1])\n",
      "Data(edge_index=[2, 104], x=[29, 3], y=[1])\n",
      "Data(edge_index=[2, 108], x=[30, 3], y=[1])\n",
      "Data(edge_index=[2, 162], x=[42, 3], y=[1])\n",
      "Data(edge_index=[2, 128], x=[31, 3], y=[1])\n",
      "Data(edge_index=[2, 170], x=[40, 3], y=[1])\n",
      "Data(edge_index=[2, 102], x=[24, 3], y=[1])\n",
      "Data(edge_index=[2, 198], x=[48, 3], y=[1])\n",
      "Data(edge_index=[2, 162], x=[39, 3], y=[1])\n",
      "Data(edge_index=[2, 100], x=[21, 3], y=[1])\n",
      "Data(edge_index=[2, 200], x=[56, 3], y=[1])\n",
      "Data(edge_index=[2, 162], x=[37, 3], y=[1])\n",
      "Data(edge_index=[2, 78], x=[19, 3], y=[1])\n",
      "Data(edge_index=[2, 74], x=[18, 3], y=[1])\n",
      "Data(edge_index=[2, 18], x=[5, 3], y=[1])\n",
      "Data(edge_index=[2, 84], x=[21, 3], y=[1])\n",
      "Data(edge_index=[2, 68], x=[17, 3], y=[1])\n",
      "Data(edge_index=[2, 168], x=[42, 3], y=[1])\n",
      "Data(edge_index=[2, 132], x=[35, 3], y=[1])\n",
      "Data(edge_index=[2, 110], x=[28, 3], y=[1])\n",
      "Data(edge_index=[2, 78], x=[23, 3], y=[1])\n",
      "Data(edge_index=[2, 140], x=[43, 3], y=[1])\n",
      "Data(edge_index=[2, 58], x=[16, 3], y=[1])\n",
      "Data(edge_index=[2, 80], x=[22, 3], y=[1])\n",
      "Data(edge_index=[2, 180], x=[42, 3], y=[1])\n",
      "Data(edge_index=[2, 164], x=[40, 3], y=[1])\n",
      "Data(edge_index=[2, 94], x=[25, 3], y=[1])\n",
      "Data(edge_index=[2, 188], x=[44, 3], y=[1])\n",
      "Data(edge_index=[2, 80], x=[22, 3], y=[1])\n",
      "Data(edge_index=[2, 164], x=[38, 3], y=[1])\n",
      "Data(edge_index=[2, 178], x=[48, 3], y=[1])\n",
      "Data(edge_index=[2, 158], x=[41, 3], y=[1])\n",
      "Data(edge_index=[2, 98], x=[24, 3], y=[1])\n",
      "Data(edge_index=[2, 98], x=[27, 3], y=[1])\n",
      "Data(edge_index=[2, 116], x=[26, 3], y=[1])\n",
      "Data(edge_index=[2, 102], x=[25, 3], y=[1])\n",
      "Data(edge_index=[2, 112], x=[27, 3], y=[1])\n",
      "Data(edge_index=[2, 90], x=[23, 3], y=[1])\n",
      "Data(edge_index=[2, 88], x=[23, 3], y=[1])\n",
      "Data(edge_index=[2, 98], x=[23, 3], y=[1])\n",
      "Data(edge_index=[2, 100], x=[22, 3], y=[1])\n",
      "Data(edge_index=[2, 106], x=[38, 3], y=[1])\n",
      "Data(edge_index=[2, 128], x=[36, 3], y=[1])\n",
      "Data(edge_index=[2, 92], x=[20, 3], y=[1])\n",
      "Data(edge_index=[2, 114], x=[32, 3], y=[1])\n",
      "Data(edge_index=[2, 220], x=[58, 3], y=[1])\n",
      "Data(edge_index=[2, 202], x=[57, 3], y=[1])\n",
      "Data(edge_index=[2, 112], x=[34, 3], y=[1])\n",
      "Data(edge_index=[2, 140], x=[32, 3], y=[1])\n",
      "Data(edge_index=[2, 70], x=[19, 3], y=[1])\n",
      "Data(edge_index=[2, 72], x=[19, 3], y=[1])\n",
      "Data(edge_index=[2, 102], x=[26, 3], y=[1])\n",
      "Data(edge_index=[2, 102], x=[24, 3], y=[1])\n",
      "Data(edge_index=[2, 152], x=[41, 3], y=[1])\n",
      "Data(edge_index=[2, 40], x=[11, 3], y=[1])\n",
      "Data(edge_index=[2, 166], x=[41, 3], y=[1])\n",
      "Data(edge_index=[2, 56], x=[16, 3], y=[1])\n",
      "Data(edge_index=[2, 62], x=[16, 3], y=[1])\n",
      "Data(edge_index=[2, 130], x=[32, 3], y=[1])\n",
      "Data(edge_index=[2, 188], x=[42, 3], y=[1])\n",
      "Data(edge_index=[2, 100], x=[24, 3], y=[1])\n",
      "Data(edge_index=[2, 168], x=[40, 3], y=[1])\n",
      "Data(edge_index=[2, 102], x=[26, 3], y=[1])\n",
      "Data(edge_index=[2, 104], x=[30, 3], y=[1])\n",
      "Data(edge_index=[2, 134], x=[37, 3], y=[1])\n",
      "Data(edge_index=[2, 52], x=[14, 3], y=[1])\n",
      "Data(edge_index=[2, 140], x=[39, 3], y=[1])\n",
      "Data(edge_index=[2, 102], x=[26, 3], y=[1])\n",
      "Data(edge_index=[2, 76], x=[24, 3], y=[1])\n",
      "Data(edge_index=[2, 164], x=[47, 3], y=[1])\n",
      "Data(edge_index=[2, 168], x=[50, 3], y=[1])\n",
      "Data(edge_index=[2, 186], x=[50, 3], y=[1])\n",
      "Data(edge_index=[2, 196], x=[52, 3], y=[1])\n",
      "Data(edge_index=[2, 106], x=[23, 3], y=[1])\n",
      "Data(edge_index=[2, 52], x=[14, 3], y=[1])\n",
      "Data(edge_index=[2, 188], x=[48, 3], y=[1])\n",
      "Data(edge_index=[2, 176], x=[37, 3], y=[1])\n",
      "Data(edge_index=[2, 68], x=[15, 3], y=[1])\n",
      "Data(edge_index=[2, 92], x=[24, 3], y=[1])\n",
      "Data(edge_index=[2, 156], x=[44, 3], y=[1])\n",
      "Data(edge_index=[2, 194], x=[46, 3], y=[1])\n",
      "Data(edge_index=[2, 72], x=[17, 3], y=[1])\n",
      "Data(edge_index=[2, 70], x=[18, 3], y=[1])\n",
      "Data(edge_index=[2, 166], x=[46, 3], y=[1])\n",
      "Data(edge_index=[2, 96], x=[24, 3], y=[1])\n",
      "Data(edge_index=[2, 54], x=[15, 3], y=[1])\n",
      "Data(edge_index=[2, 48], x=[12, 3], y=[1])\n",
      "Data(edge_index=[2, 174], x=[39, 3], y=[1])\n",
      "Data(edge_index=[2, 122], x=[39, 3], y=[1])\n",
      "Data(edge_index=[2, 156], x=[45, 3], y=[1])\n",
      "Data(edge_index=[2, 102], x=[27, 3], y=[1])\n",
      "Data(edge_index=[2, 148], x=[35, 3], y=[1])\n",
      "Data(edge_index=[2, 56], x=[15, 3], y=[1])\n",
      "Data(edge_index=[2, 170], x=[39, 3], y=[1])\n",
      "Data(edge_index=[2, 142], x=[36, 3], y=[1])\n",
      "Data(edge_index=[2, 224], x=[66, 3], y=[1])\n",
      "Data(edge_index=[2, 192], x=[48, 3], y=[1])\n",
      "Data(edge_index=[2, 144], x=[39, 3], y=[1])\n",
      "Data(edge_index=[2, 198], x=[52, 3], y=[1])\n",
      "Data(edge_index=[2, 66], x=[19, 3], y=[1])\n",
      "Data(edge_index=[2, 100], x=[24, 3], y=[1])\n",
      "Data(edge_index=[2, 90], x=[20, 3], y=[1])\n",
      "Data(edge_index=[2, 94], x=[25, 3], y=[1])\n",
      "Data(edge_index=[2, 132], x=[31, 3], y=[1])\n",
      "Data(edge_index=[2, 80], x=[20, 3], y=[1])\n",
      "Data(edge_index=[2, 50], x=[15, 3], y=[1])\n",
      "Data(edge_index=[2, 78], x=[19, 3], y=[1])\n",
      "Data(edge_index=[2, 52], x=[13, 3], y=[1])\n",
      "Data(edge_index=[2, 100], x=[29, 3], y=[1])\n",
      "Data(edge_index=[2, 150], x=[42, 3], y=[1])\n",
      "Data(edge_index=[2, 188], x=[44, 3], y=[1])\n",
      "Data(edge_index=[2, 82], x=[21, 3], y=[1])\n",
      "Data(edge_index=[2, 126], x=[40, 3], y=[1])\n",
      "Data(edge_index=[2, 218], x=[96, 3], y=[1])\n",
      "Data(edge_index=[2, 104], x=[28, 3], y=[1])\n",
      "Data(edge_index=[2, 98], x=[27, 3], y=[1])\n",
      "Data(edge_index=[2, 32], x=[100, 3], y=[1])\n",
      "Data(edge_index=[2, 236], x=[64, 3], y=[1])\n",
      "Data(edge_index=[2, 64], x=[18, 3], y=[1])\n",
      "Data(edge_index=[2, 52], x=[14, 3], y=[1])\n",
      "Data(edge_index=[2, 94], x=[27, 3], y=[1])\n",
      "Data(edge_index=[2, 122], x=[27, 3], y=[1])\n",
      "Data(edge_index=[2, 174], x=[52, 3], y=[1])\n",
      "Data(edge_index=[2, 48], x=[12, 3], y=[1])\n",
      "Data(edge_index=[2, 148], x=[41, 3], y=[1])\n",
      "Data(edge_index=[2, 180], x=[44, 3], y=[1])\n",
      "Data(edge_index=[2, 146], x=[39, 3], y=[1])\n",
      "Data(edge_index=[2, 86], x=[24, 3], y=[1])\n",
      "Data(edge_index=[2, 190], x=[45, 3], y=[1])\n",
      "Data(edge_index=[2, 184], x=[44, 3], y=[1])\n",
      "Data(edge_index=[2, 152], x=[34, 3], y=[1])\n",
      "Data(edge_index=[2, 104], x=[23, 3], y=[1])\n",
      "Data(edge_index=[2, 122], x=[38, 3], y=[1])\n",
      "Data(edge_index=[2, 148], x=[36, 3], y=[1])\n",
      "Data(edge_index=[2, 62], x=[13, 3], y=[1])\n",
      "Data(edge_index=[2, 214], x=[60, 3], y=[1])\n",
      "Data(edge_index=[2, 214], x=[57, 3], y=[1])\n",
      "Data(edge_index=[2, 166], x=[42, 3], y=[1])\n",
      "Data(edge_index=[2, 122], x=[36, 3], y=[1])\n",
      "Data(edge_index=[2, 112], x=[28, 3], y=[1])\n",
      "Data(edge_index=[2, 240], x=[66, 3], y=[1])\n",
      "Data(edge_index=[2, 144], x=[46, 3], y=[1])\n",
      "Data(edge_index=[2, 128], x=[32, 3], y=[1])\n",
      "Data(edge_index=[2, 102], x=[25, 3], y=[1])\n",
      "Data(edge_index=[2, 24], x=[7, 3], y=[1])\n",
      "Data(edge_index=[2, 124], x=[33, 3], y=[1])\n",
      "Data(edge_index=[2, 60], x=[17, 3], y=[1])\n",
      "Data(edge_index=[2, 164], x=[37, 3], y=[1])\n",
      "Data(edge_index=[2, 92], x=[26, 3], y=[1])\n",
      "Data(edge_index=[2, 112], x=[30, 3], y=[1])\n",
      "Data(edge_index=[2, 196], x=[48, 3], y=[1])\n",
      "Data(edge_index=[2, 192], x=[52, 3], y=[1])\n",
      "Data(edge_index=[2, 98], x=[29, 3], y=[1])\n",
      "Data(edge_index=[2, 114], x=[29, 3], y=[1])\n",
      "Data(edge_index=[2, 84], x=[22, 3], y=[1])\n",
      "Data(edge_index=[2, 102], x=[26, 3], y=[1])\n",
      "Data(edge_index=[2, 298], x=[122, 3], y=[1])\n",
      "Data(edge_index=[2, 134], x=[34, 3], y=[1])\n",
      "Data(edge_index=[2, 116], x=[27, 3], y=[1])\n",
      "Data(edge_index=[2, 156], x=[48, 3], y=[1])\n",
      "Data(edge_index=[2, 118], x=[31, 3], y=[1])\n",
      "Data(edge_index=[2, 110], x=[33, 3], y=[1])\n",
      "Data(edge_index=[2, 176], x=[41, 3], y=[1])\n",
      "Data(edge_index=[2, 36], x=[10, 3], y=[1])\n",
      "Data(edge_index=[2, 154], x=[55, 3], y=[1])\n",
      "Data(edge_index=[2, 184], x=[42, 3], y=[1])\n",
      "Data(edge_index=[2, 34], x=[10, 3], y=[1])\n",
      "Data(edge_index=[2, 188], x=[49, 3], y=[1])\n",
      "Data(edge_index=[2, 164], x=[39, 3], y=[1])\n",
      "Data(edge_index=[2, 190], x=[45, 3], y=[1])\n",
      "Data(edge_index=[2, 164], x=[44, 3], y=[1])\n",
      "Data(edge_index=[2, 140], x=[38, 3], y=[1])\n",
      "Data(edge_index=[2, 196], x=[50, 3], y=[1])\n",
      "Data(edge_index=[2, 124], x=[34, 3], y=[1])\n",
      "Data(edge_index=[2, 72], x=[16, 3], y=[1])\n",
      "Data(edge_index=[2, 86], x=[18, 3], y=[1])\n",
      "Data(edge_index=[2, 114], x=[32, 3], y=[1])\n",
      "Data(edge_index=[2, 98], x=[25, 3], y=[1])\n",
      "Data(edge_index=[2, 108], x=[28, 3], y=[1])\n",
      "Data(edge_index=[2, 166], x=[43, 3], y=[1])\n",
      "Data(edge_index=[2, 142], x=[35, 3], y=[1])\n",
      "Data(edge_index=[2, 78], x=[20, 3], y=[1])\n",
      "Data(edge_index=[2, 58], x=[16, 3], y=[1])\n",
      "Data(edge_index=[2, 90], x=[26, 3], y=[1])\n",
      "Data(edge_index=[2, 194], x=[45, 3], y=[1])\n",
      "Data(edge_index=[2, 102], x=[24, 3], y=[1])\n",
      "Data(edge_index=[2, 96], x=[26, 3], y=[1])\n",
      "Data(edge_index=[2, 102], x=[23, 3], y=[1])\n",
      "Data(edge_index=[2, 92], x=[22, 3], y=[1])\n",
      "Data(edge_index=[2, 46], x=[11, 3], y=[1])\n",
      "Data(edge_index=[2, 80], x=[24, 3], y=[1])\n",
      "Data(edge_index=[2, 176], x=[41, 3], y=[1])\n",
      "Data(edge_index=[2, 48], x=[12, 3], y=[1])\n",
      "Data(edge_index=[2, 60], x=[17, 3], y=[1])\n",
      "Data(edge_index=[2, 92], x=[25, 3], y=[1])\n",
      "Data(edge_index=[2, 194], x=[48, 3], y=[1])\n",
      "Data(edge_index=[2, 82], x=[24, 3], y=[1])\n",
      "Data(edge_index=[2, 124], x=[31, 3], y=[1])\n",
      "Data(edge_index=[2, 44], x=[11, 3], y=[1])\n",
      "Data(edge_index=[2, 190], x=[42, 3], y=[1])\n",
      "Data(edge_index=[2, 150], x=[42, 3], y=[1])\n",
      "Data(edge_index=[2, 94], x=[23, 3], y=[1])\n",
      "Data(edge_index=[2, 164], x=[45, 3], y=[1])\n",
      "Data(edge_index=[2, 160], x=[39, 3], y=[1])\n",
      "Data(edge_index=[2, 148], x=[41, 3], y=[1])\n",
      "Data(edge_index=[2, 120], x=[27, 3], y=[1])\n",
      "Data(edge_index=[2, 88], x=[23, 3], y=[1])\n",
      "Data(edge_index=[2, 102], x=[30, 3], y=[1])\n",
      "Data(edge_index=[2, 138], x=[39, 3], y=[1])\n",
      "Data(edge_index=[2, 164], x=[42, 3], y=[1])\n",
      "Data(edge_index=[2, 44], x=[12, 3], y=[1])\n",
      "Data(edge_index=[2, 190], x=[40, 3], y=[1])\n",
      "Data(edge_index=[2, 152], x=[84, 3], y=[1])\n",
      "Data(edge_index=[2, 168], x=[42, 3], y=[1])\n",
      "Data(edge_index=[2, 120], x=[32, 3], y=[1])\n",
      "Data(edge_index=[2, 86], x=[25, 3], y=[1])\n",
      "Data(edge_index=[2, 166], x=[39, 3], y=[1])\n",
      "Data(edge_index=[2, 90], x=[24, 3], y=[1])\n",
      "Data(edge_index=[2, 176], x=[42, 3], y=[1])\n",
      "Data(edge_index=[2, 180], x=[41, 3], y=[1])\n",
      "Data(edge_index=[2, 90], x=[21, 3], y=[1])\n",
      "Data(edge_index=[2, 146], x=[36, 3], y=[1])\n",
      "Data(edge_index=[2, 142], x=[37, 3], y=[1])\n",
      "Data(edge_index=[2, 66], x=[14, 3], y=[1])\n",
      "Data(edge_index=[2, 28], x=[7, 3], y=[1])\n",
      "Data(edge_index=[2, 152], x=[39, 3], y=[1])\n",
      "Data(edge_index=[2, 154], x=[41, 3], y=[1])\n",
      "Data(edge_index=[2, 160], x=[39, 3], y=[1])\n",
      "Data(edge_index=[2, 108], x=[34, 3], y=[1])\n",
      "Data(edge_index=[2, 128], x=[33, 3], y=[1])\n",
      "Data(edge_index=[2, 196], x=[52, 3], y=[1])\n",
      "Data(edge_index=[2, 120], x=[30, 3], y=[1])\n",
      "Data(edge_index=[2, 68], x=[19, 3], y=[1])\n",
      "Data(edge_index=[2, 2], x=[2, 3], y=[1])\n",
      "Data(edge_index=[2, 152], x=[42, 3], y=[1])\n",
      "Data(edge_index=[2, 158], x=[38, 3], y=[1])\n",
      "Data(edge_index=[2, 174], x=[40, 3], y=[1])\n",
      "Data(edge_index=[2, 188], x=[40, 3], y=[1])\n",
      "Data(edge_index=[2, 142], x=[38, 3], y=[1])\n",
      "Data(edge_index=[2, 188], x=[42, 3], y=[1])\n",
      "Data(edge_index=[2, 106], x=[28, 3], y=[1])\n",
      "Data(edge_index=[2, 136], x=[36, 3], y=[1])\n",
      "Data(edge_index=[2, 98], x=[28, 3], y=[1])\n",
      "Data(edge_index=[2, 90], x=[25, 3], y=[1])\n",
      "Data(edge_index=[2, 80], x=[18, 3], y=[1])\n",
      "Data(edge_index=[2, 232], x=[52, 3], y=[1])\n",
      "Data(edge_index=[2, 188], x=[48, 3], y=[1])\n",
      "Data(edge_index=[2, 78], x=[20, 3], y=[1])\n",
      "Data(edge_index=[2, 192], x=[46, 3], y=[1])\n",
      "Data(edge_index=[2, 12], x=[4, 3], y=[1])\n",
      "Data(edge_index=[2, 198], x=[51, 3], y=[1])\n",
      "Data(edge_index=[2, 134], x=[30, 3], y=[1])\n",
      "Data(edge_index=[2, 160], x=[60, 3], y=[1])\n",
      "Data(edge_index=[2, 178], x=[44, 3], y=[1])\n",
      "Data(edge_index=[2, 198], x=[48, 3], y=[1])\n",
      "Data(edge_index=[2, 70], x=[19, 3], y=[1])\n",
      "Data(edge_index=[2, 100], x=[24, 3], y=[1])\n",
      "Data(edge_index=[2, 98], x=[20, 3], y=[1])\n",
      "Data(edge_index=[2, 102], x=[30, 3], y=[1])\n",
      "Data(edge_index=[2, 66], x=[18, 3], y=[1])\n",
      "Data(edge_index=[2, 102], x=[32, 3], y=[1])\n",
      "Data(edge_index=[2, 22], x=[6, 3], y=[1])\n",
      "Data(edge_index=[2, 158], x=[39, 3], y=[1])\n",
      "Data(edge_index=[2, 176], x=[45, 3], y=[1])\n",
      "Data(edge_index=[2, 108], x=[28, 3], y=[1])\n",
      "Data(edge_index=[2, 116], x=[30, 3], y=[1])\n",
      "Data(edge_index=[2, 146], x=[41, 3], y=[1])\n",
      "Data(edge_index=[2, 186], x=[49, 3], y=[1])\n",
      "Data(edge_index=[2, 136], x=[33, 3], y=[1])\n",
      "Data(edge_index=[2, 66], x=[15, 3], y=[1])\n",
      "Data(edge_index=[2, 254], x=[90, 3], y=[1])\n",
      "Data(edge_index=[2, 164], x=[39, 3], y=[1])\n",
      "Data(edge_index=[2, 84], x=[22, 3], y=[1])\n",
      "Data(edge_index=[2, 128], x=[34, 3], y=[1])\n",
      "Data(edge_index=[2, 222], x=[48, 3], y=[1])\n",
      "Data(edge_index=[2, 116], x=[33, 3], y=[1])\n",
      "Data(edge_index=[2, 78], x=[24, 3], y=[1])\n",
      "Data(edge_index=[2, 116], x=[37, 3], y=[1])\n",
      "Data(edge_index=[2, 156], x=[41, 3], y=[1])\n",
      "Data(edge_index=[2, 74], x=[18, 3], y=[1])\n",
      "Data(edge_index=[2, 188], x=[43, 3], y=[1])\n",
      "Data(edge_index=[2, 134], x=[30, 3], y=[1])\n",
      "Data(edge_index=[2, 94], x=[27, 3], y=[1])\n",
      "Data(edge_index=[2, 134], x=[34, 3], y=[1])\n",
      "Data(edge_index=[2, 172], x=[41, 3], y=[1])\n",
      "Data(edge_index=[2, 196], x=[51, 3], y=[1])\n",
      "Data(edge_index=[2, 134], x=[39, 3], y=[1])\n",
      "Data(edge_index=[2, 64], x=[18, 3], y=[1])\n",
      "Data(edge_index=[2, 132], x=[38, 3], y=[1])\n",
      "Data(edge_index=[2, 128], x=[32, 3], y=[1])\n",
      "Data(edge_index=[2, 162], x=[40, 3], y=[1])\n",
      "Data(edge_index=[2, 122], x=[32, 3], y=[1])\n",
      "Data(edge_index=[2, 146], x=[34, 3], y=[1])\n",
      "Data(edge_index=[2, 126], x=[34, 3], y=[1])\n",
      "Data(edge_index=[2, 98], x=[28, 3], y=[1])\n",
      "Data(edge_index=[2, 58], x=[16, 3], y=[1])\n",
      "Data(edge_index=[2, 118], x=[28, 3], y=[1])\n",
      "Data(edge_index=[2, 72], x=[22, 3], y=[1])\n",
      "Data(edge_index=[2, 108], x=[28, 3], y=[1])\n",
      "Data(edge_index=[2, 82], x=[19, 3], y=[1])\n",
      "Data(edge_index=[2, 100], x=[24, 3], y=[1])\n",
      "Data(edge_index=[2, 186], x=[46, 3], y=[1])\n",
      "Data(edge_index=[2, 192], x=[44, 3], y=[1])\n",
      "Data(edge_index=[2, 140], x=[36, 3], y=[1])\n",
      "Data(edge_index=[2, 192], x=[46, 3], y=[1])\n",
      "Data(edge_index=[2, 182], x=[38, 3], y=[1])\n",
      "Data(edge_index=[2, 150], x=[38, 3], y=[1])\n",
      "Data(edge_index=[2, 36], x=[10, 3], y=[1])\n",
      "Data(edge_index=[2, 164], x=[38, 3], y=[1])\n",
      "Data(edge_index=[2, 128], x=[36, 3], y=[1])\n",
      "Data(edge_index=[2, 124], x=[28, 3], y=[1])\n",
      "Data(edge_index=[2, 128], x=[31, 3], y=[1])\n",
      "Data(edge_index=[2, 52], x=[14, 3], y=[1])\n",
      "Data(edge_index=[2, 82], x=[18, 3], y=[1])\n",
      "Data(edge_index=[2, 152], x=[42, 3], y=[1])\n",
      "Data(edge_index=[2, 156], x=[48, 3], y=[1])\n",
      "Data(edge_index=[2, 266], x=[88, 3], y=[1])\n",
      "Data(edge_index=[2, 98], x=[22, 3], y=[1])\n",
      "Data(edge_index=[2, 198], x=[46, 3], y=[1])\n",
      "Data(edge_index=[2, 92], x=[25, 3], y=[1])\n",
      "Data(edge_index=[2, 64], x=[16, 3], y=[1])\n",
      "Data(edge_index=[2, 152], x=[42, 3], y=[1])\n",
      "Data(edge_index=[2, 122], x=[32, 3], y=[1])\n",
      "Data(edge_index=[2, 158], x=[40, 3], y=[1])\n",
      "Data(edge_index=[2, 154], x=[34, 3], y=[1])\n",
      "Data(edge_index=[2, 122], x=[33, 3], y=[1])\n",
      "Data(edge_index=[2, 70], x=[19, 3], y=[1])\n",
      "Data(edge_index=[2, 102], x=[25, 3], y=[1])\n",
      "Data(edge_index=[2, 104], x=[27, 3], y=[1])\n",
      "Data(edge_index=[2, 142], x=[39, 3], y=[1])\n",
      "Data(edge_index=[2, 170], x=[42, 3], y=[1])\n",
      "Data(edge_index=[2, 190], x=[44, 3], y=[1])\n",
      "Data(edge_index=[2, 76], x=[20, 3], y=[1])\n",
      "Data(edge_index=[2, 104], x=[27, 3], y=[1])\n",
      "Data(edge_index=[2, 58], x=[17, 3], y=[1])\n",
      "Data(edge_index=[2, 108], x=[28, 3], y=[1])\n",
      "Data(edge_index=[2, 220], x=[51, 3], y=[1])\n",
      "Data(edge_index=[2, 58], x=[15, 3], y=[1])\n",
      "Data(edge_index=[2, 64], x=[18, 3], y=[1])\n",
      "Data(edge_index=[2, 172], x=[50, 3], y=[1])\n",
      "Data(edge_index=[2, 114], x=[28, 3], y=[1])\n",
      "Data(edge_index=[2, 182], x=[40, 3], y=[1])\n",
      "Data(edge_index=[2, 102], x=[27, 3], y=[1])\n",
      "Data(edge_index=[2, 132], x=[40, 3], y=[1])\n",
      "Data(edge_index=[2, 164], x=[46, 3], y=[1])\n",
      "Data(edge_index=[2, 282], x=[126, 3], y=[1])\n",
      "Data(edge_index=[2, 176], x=[38, 3], y=[1])\n",
      "Data(edge_index=[2, 128], x=[29, 3], y=[1])\n",
      "Data(edge_index=[2, 172], x=[41, 3], y=[1])\n",
      "Data(edge_index=[2, 158], x=[47, 3], y=[1])\n",
      "Data(edge_index=[2, 172], x=[50, 3], y=[1])\n",
      "Data(edge_index=[2, 94], x=[32, 3], y=[1])\n",
      "Data(edge_index=[2, 116], x=[26, 3], y=[1])\n",
      "Data(edge_index=[2, 278], x=[124, 3], y=[1])\n",
      "Data(edge_index=[2, 84], x=[21, 3], y=[1])\n",
      "Data(edge_index=[2, 92], x=[26, 3], y=[1])\n",
      "Data(edge_index=[2, 80], x=[22, 3], y=[1])\n",
      "Data(edge_index=[2, 44], x=[12, 3], y=[1])\n",
      "Data(edge_index=[2, 74], x=[26, 3], y=[1])\n",
      "Data(edge_index=[2, 122], x=[35, 3], y=[1])\n",
      "Data(edge_index=[2, 130], x=[29, 3], y=[1])\n",
      "Data(edge_index=[2, 166], x=[37, 3], y=[1])\n",
      "Data(edge_index=[2, 46], x=[14, 3], y=[1])\n",
      "Data(edge_index=[2, 30], x=[9, 3], y=[1])\n",
      "Data(edge_index=[2, 58], x=[14, 3], y=[1])\n",
      "Data(edge_index=[2, 148], x=[32, 3], y=[1])\n",
      "Data(edge_index=[2, 96], x=[28, 3], y=[1])\n",
      "Data(edge_index=[2, 70], x=[21, 3], y=[1])\n",
      "Data(edge_index=[2, 180], x=[42, 3], y=[1])\n",
      "Data(edge_index=[2, 210], x=[54, 3], y=[1])\n",
      "Data(edge_index=[2, 86], x=[25, 3], y=[1])\n",
      "Data(edge_index=[2, 168], x=[40, 3], y=[1])\n",
      "Data(edge_index=[2, 178], x=[50, 3], y=[1])\n",
      "Data(edge_index=[2, 112], x=[33, 3], y=[1])\n",
      "Data(edge_index=[2, 140], x=[35, 3], y=[1])\n",
      "Data(edge_index=[2, 174], x=[42, 3], y=[1])\n",
      "Data(edge_index=[2, 66], x=[18, 3], y=[1])\n",
      "Data(edge_index=[2, 196], x=[55, 3], y=[1])\n",
      "Data(edge_index=[2, 120], x=[32, 3], y=[1])\n",
      "Data(edge_index=[2, 110], x=[29, 3], y=[1])\n",
      "Data(edge_index=[2, 138], x=[33, 3], y=[1])\n",
      "Data(edge_index=[2, 180], x=[46, 3], y=[1])\n",
      "Data(edge_index=[2, 86], x=[21, 3], y=[1])\n",
      "Data(edge_index=[2, 152], x=[33, 3], y=[1])\n",
      "Data(edge_index=[2, 110], x=[28, 3], y=[1])\n",
      "Data(edge_index=[2, 108], x=[27, 3], y=[1])\n",
      "Data(edge_index=[2, 158], x=[37, 3], y=[1])\n",
      "Data(edge_index=[2, 158], x=[38, 3], y=[1])\n",
      "Data(edge_index=[2, 198], x=[52, 3], y=[1])\n",
      "Data(edge_index=[2, 94], x=[22, 3], y=[1])\n",
      "Data(edge_index=[2, 68], x=[13, 3], y=[1])\n",
      "Data(edge_index=[2, 140], x=[40, 3], y=[1])\n",
      "Data(edge_index=[2, 70], x=[18, 3], y=[1])\n",
      "Data(edge_index=[2, 100], x=[23, 3], y=[1])\n",
      "Data(edge_index=[2, 102], x=[27, 3], y=[1])\n",
      "Data(edge_index=[2, 122], x=[32, 3], y=[1])\n",
      "Data(edge_index=[2, 184], x=[41, 3], y=[1])\n",
      "Data(edge_index=[2, 200], x=[55, 3], y=[1])\n",
      "Data(edge_index=[2, 64], x=[18, 3], y=[1])\n",
      "Data(edge_index=[2, 112], x=[27, 3], y=[1])\n",
      "Data(edge_index=[2, 146], x=[40, 3], y=[1])\n",
      "Data(edge_index=[2, 164], x=[39, 3], y=[1])\n",
      "Data(edge_index=[2, 148], x=[38, 3], y=[1])\n",
      "Data(edge_index=[2, 132], x=[34, 3], y=[1])\n",
      "Data(edge_index=[2, 56], x=[16, 3], y=[1])\n",
      "Data(edge_index=[2, 184], x=[44, 3], y=[1])\n",
      "Data(edge_index=[2, 94], x=[25, 3], y=[1])\n",
      "Data(edge_index=[2, 76], x=[20, 3], y=[1])\n",
      "Data(edge_index=[2, 90], x=[25, 3], y=[1])\n",
      "Data(edge_index=[2, 200], x=[46, 3], y=[1])\n",
      "Data(edge_index=[2, 112], x=[25, 3], y=[1])\n",
      "Data(edge_index=[2, 180], x=[44, 3], y=[1])\n",
      "Data(edge_index=[2, 178], x=[51, 3], y=[1])\n",
      "Data(edge_index=[2, 190], x=[44, 3], y=[1])\n",
      "Data(edge_index=[2, 184], x=[41, 3], y=[1])\n",
      "Data(edge_index=[2, 72], x=[20, 3], y=[1])\n",
      "Data(edge_index=[2, 152], x=[42, 3], y=[1])\n",
      "Data(edge_index=[2, 190], x=[47, 3], y=[1])\n",
      "Data(edge_index=[2, 78], x=[20, 3], y=[1])\n",
      "Data(edge_index=[2, 118], x=[26, 3], y=[1])\n",
      "Data(edge_index=[2, 146], x=[40, 3], y=[1])\n",
      "Data(edge_index=[2, 198], x=[44, 3], y=[1])\n",
      "Data(edge_index=[2, 100], x=[26, 3], y=[1])\n",
      "Data(edge_index=[2, 144], x=[34, 3], y=[1])\n",
      "Data(edge_index=[2, 198], x=[54, 3], y=[1])\n",
      "Data(edge_index=[2, 28], x=[8, 3], y=[1])\n",
      "Data(edge_index=[2, 176], x=[40, 3], y=[1])\n",
      "Data(edge_index=[2, 86], x=[21, 3], y=[1])\n",
      "Data(edge_index=[2, 114], x=[27, 3], y=[1])\n",
      "Data(edge_index=[2, 52], x=[13, 3], y=[1])\n",
      "Data(edge_index=[2, 44], x=[12, 3], y=[1])\n",
      "Data(edge_index=[2, 102], x=[23, 3], y=[1])\n",
      "Data(edge_index=[2, 104], x=[30, 3], y=[1])\n",
      "Data(edge_index=[2, 32], x=[9, 3], y=[1])\n",
      "Data(edge_index=[2, 94], x=[26, 3], y=[1])\n",
      "Data(edge_index=[2, 162], x=[40, 3], y=[1])\n",
      "Data(edge_index=[2, 106], x=[32, 3], y=[1])\n",
      "Data(edge_index=[2, 184], x=[47, 3], y=[1])\n",
      "Data(edge_index=[2, 80], x=[24, 3], y=[1])\n",
      "Data(edge_index=[2, 176], x=[43, 3], y=[1])\n",
      "Data(edge_index=[2, 162], x=[38, 3], y=[1])\n",
      "Data(edge_index=[2, 216], x=[62, 3], y=[1])\n",
      "Data(edge_index=[2, 74], x=[19, 3], y=[1])\n",
      "Data(edge_index=[2, 114], x=[37, 3], y=[1])\n",
      "Data(edge_index=[2, 88], x=[26, 3], y=[1])\n",
      "Data(edge_index=[2, 178], x=[42, 3], y=[1])\n",
      "Data(edge_index=[2, 60], x=[15, 3], y=[1])\n",
      "Data(edge_index=[2, 134], x=[38, 3], y=[1])\n",
      "Data(edge_index=[2, 46], x=[14, 3], y=[1])\n",
      "Data(edge_index=[2, 240], x=[74, 3], y=[1])\n",
      "Data(edge_index=[2, 74], x=[20, 3], y=[1])\n",
      "Data(edge_index=[2, 140], x=[34, 3], y=[1])\n",
      "Data(edge_index=[2, 160], x=[42, 3], y=[1])\n",
      "Data(edge_index=[2, 132], x=[33, 3], y=[1])\n",
      "Data(edge_index=[2, 190], x=[51, 3], y=[1])\n",
      "Data(edge_index=[2, 130], x=[28, 3], y=[1])\n",
      "Data(edge_index=[2, 134], x=[35, 3], y=[1])\n",
      "Data(edge_index=[2, 192], x=[48, 3], y=[1])\n",
      "Data(edge_index=[2, 56], x=[13, 3], y=[1])\n",
      "Data(edge_index=[2, 158], x=[38, 3], y=[1])\n",
      "Data(edge_index=[2, 154], x=[40, 3], y=[1])\n",
      "Data(edge_index=[2, 64], x=[16, 3], y=[1])\n",
      "Data(edge_index=[2, 102], x=[27, 3], y=[1])\n",
      "Data(edge_index=[2, 84], x=[25, 3], y=[1])\n",
      "Data(edge_index=[2, 52], x=[14, 3], y=[1])\n",
      "Data(edge_index=[2, 206], x=[60, 3], y=[1])\n",
      "Data(edge_index=[2, 90], x=[24, 3], y=[1])\n",
      "Data(edge_index=[2, 190], x=[44, 3], y=[1])\n",
      "Data(edge_index=[2, 242], x=[96, 3], y=[1])\n",
      "Data(edge_index=[2, 194], x=[44, 3], y=[1])\n",
      "Data(edge_index=[2, 208], x=[62, 3], y=[1])\n",
      "Data(edge_index=[2, 164], x=[42, 3], y=[1])\n",
      "Data(edge_index=[2, 108], x=[26, 3], y=[1])\n",
      "Data(edge_index=[2, 84], x=[21, 3], y=[1])\n",
      "Data(edge_index=[2, 148], x=[40, 3], y=[1])\n",
      "Data(edge_index=[2, 136], x=[30, 3], y=[1])\n",
      "Data(edge_index=[2, 158], x=[35, 3], y=[1])\n",
      "Data(edge_index=[2, 138], x=[33, 3], y=[1])\n",
      "Data(edge_index=[2, 200], x=[60, 3], y=[1])\n",
      "Data(edge_index=[2, 48], x=[12, 3], y=[1])\n",
      "Data(edge_index=[2, 96], x=[22, 3], y=[1])\n",
      "Data(edge_index=[2, 84], x=[23, 3], y=[1])\n",
      "Data(edge_index=[2, 44], x=[12, 3], y=[1])\n",
      "Data(edge_index=[2, 74], x=[21, 3], y=[1])\n",
      "Data(edge_index=[2, 128], x=[35, 3], y=[1])\n",
      "Data(edge_index=[2, 102], x=[28, 3], y=[1])\n",
      "Data(edge_index=[2, 154], x=[42, 3], y=[1])\n",
      "Data(edge_index=[2, 140], x=[35, 3], y=[1])\n",
      "Data(edge_index=[2, 160], x=[48, 3], y=[1])\n",
      "Data(edge_index=[2, 84], x=[33, 3], y=[1])\n",
      "Data(edge_index=[2, 116], x=[39, 3], y=[1])\n",
      "Data(edge_index=[2, 106], x=[29, 3], y=[1])\n",
      "Data(edge_index=[2, 68], x=[18, 3], y=[1])\n",
      "Data(edge_index=[2, 148], x=[42, 3], y=[1])\n",
      "Data(edge_index=[2, 154], x=[34, 3], y=[1])\n",
      "Data(edge_index=[2, 170], x=[44, 3], y=[1])\n",
      "Data(edge_index=[2, 92], x=[21, 3], y=[1])\n",
      "Data(edge_index=[2, 86], x=[22, 3], y=[1])\n",
      "Data(edge_index=[2, 104], x=[27, 3], y=[1])\n",
      "Data(edge_index=[2, 146], x=[37, 3], y=[1])\n",
      "Data(edge_index=[2, 150], x=[38, 3], y=[1])\n",
      "Data(edge_index=[2, 78], x=[21, 3], y=[1])\n",
      "Data(edge_index=[2, 138], x=[37, 3], y=[1])\n",
      "Data(edge_index=[2, 84], x=[21, 3], y=[1])\n",
      "Data(edge_index=[2, 168], x=[40, 3], y=[1])\n",
      "Data(edge_index=[2, 46], x=[12, 3], y=[1])\n",
      "Data(edge_index=[2, 92], x=[24, 3], y=[1])\n"
     ]
    }
   ],
   "source": [
    "for i in range(len(dataset)):\n",
    "    print(dataset[i])"
   ]
  },
  {
   "cell_type": "code",
   "execution_count": 12,
   "id": "1a0e2c45",
   "metadata": {},
   "outputs": [],
   "source": [
    "dataset[0].batch\n"
   ]
  },
  {
   "cell_type": "code",
   "execution_count": 36,
   "id": "a8c293b2",
   "metadata": {},
   "outputs": [
    {
     "data": {
      "text/plain": [
       "tensor([[ 0,  0,  1,  1,  1,  1,  1,  2,  2,  2,  2,  3,  3,  3,  3,  4,  4,  4,\n",
       "          5,  5,  5,  6,  6,  6,  6,  6,  6,  7,  7,  7,  7,  7,  8,  8,  8,  8,\n",
       "          9,  9,  9,  9, 10, 10, 10, 10, 11, 11, 11, 11, 12, 12, 13, 13, 13, 14,\n",
       "         14, 14, 15, 15, 15, 16, 16, 16, 16, 17, 17, 17, 17, 17, 18, 18, 18, 18,\n",
       "         19, 19, 19, 19, 20, 20, 20, 21, 21, 21, 21, 22, 22, 22, 22, 22, 23, 23,\n",
       "         23, 23, 24, 24, 24, 24, 25, 25, 25, 25, 26, 26, 26, 26, 27, 27, 28, 28,\n",
       "         28, 29, 29, 29, 30, 30, 30, 31, 31, 31, 31, 32, 32, 32, 32, 33, 33, 33,\n",
       "         34, 34, 34, 35, 35, 35, 35, 36, 36, 36, 36, 36, 37, 37, 37, 37, 37, 37,\n",
       "         38, 38, 38, 38, 39, 39, 39, 39, 40, 40, 41, 41, 41, 41, 42, 42, 42, 43,\n",
       "         43, 43, 44, 44, 44, 44, 45, 45, 45, 45, 46, 46, 46, 46, 47, 47, 47, 47,\n",
       "         48, 48, 48, 48],\n",
       "        [ 1, 31,  0,  2,  3, 19, 32,  1,  3, 32, 41,  1,  2, 17, 33, 33, 34, 42,\n",
       "         34, 35, 43,  7, 22, 35, 36, 44, 45,  6,  8, 35, 36, 44,  7, 24, 36, 37,\n",
       "         10, 23, 25, 37,  9, 11, 24, 38, 10, 12, 13, 38, 11, 13, 11, 12, 14, 13,\n",
       "         15, 30, 14, 29, 30, 17, 31, 41, 48,  3, 16, 18, 19, 41, 17, 19, 32, 41,\n",
       "          1, 17, 18, 42, 33, 42, 43, 34, 35, 43, 44,  6, 23, 36, 44, 45,  9, 22,\n",
       "         45, 46,  8, 10, 25, 46,  9, 24, 26, 47, 25, 27, 28, 47, 26, 28, 26, 27,\n",
       "         29, 15, 28, 30, 14, 15, 29,  0, 16, 39, 48,  1,  2, 18, 39,  3,  4, 20,\n",
       "          4,  5, 21,  5,  6,  7, 21,  6,  7,  8, 22, 37,  8,  9, 36, 38, 45, 47,\n",
       "         10, 11, 37, 46, 31, 32, 40, 48, 39, 48,  2, 16, 17, 18,  4, 19, 20,  5,\n",
       "         20, 21,  6,  7, 21, 22,  6, 22, 23, 37, 23, 24, 38, 47, 25, 26, 37, 46,\n",
       "         16, 31, 39, 40]])"
      ]
     },
     "execution_count": 36,
     "metadata": {},
     "output_type": "execute_result"
    }
   ],
   "source": [
    "dataset[0].edge_index"
   ]
  },
  {
   "cell_type": "code",
   "execution_count": 29,
   "id": "999e864f",
   "metadata": {},
   "outputs": [
    {
     "data": {
      "text/plain": [
       "True"
      ]
     },
     "execution_count": 29,
     "metadata": {},
     "output_type": "execute_result"
    }
   ],
   "source": [
    "dataset[0].edge_attr is None"
   ]
  },
  {
   "cell_type": "code",
   "execution_count": 32,
   "id": "39b65439",
   "metadata": {},
   "outputs": [
    {
     "data": {
      "text/plain": [
       "True"
      ]
     },
     "execution_count": 32,
     "metadata": {},
     "output_type": "execute_result"
    }
   ],
   "source": [
    "dataset[0].pos is None"
   ]
  },
  {
   "cell_type": "code",
   "execution_count": 35,
   "id": "eedd965e",
   "metadata": {},
   "outputs": [
    {
     "data": {
      "text/plain": [
       "3"
      ]
     },
     "execution_count": 35,
     "metadata": {},
     "output_type": "execute_result"
    }
   ],
   "source": [
    "dataset[0].num_node_features"
   ]
  },
  {
   "cell_type": "code",
   "execution_count": 39,
   "id": "846f8b08",
   "metadata": {},
   "outputs": [
    {
     "name": "stdout",
     "output_type": "stream",
     "text": [
      "torch.Size([2235])\n",
      "torch.Size([1927])\n",
      "torch.Size([2019])\n",
      "torch.Size([2057])\n",
      "torch.Size([2217])\n",
      "torch.Size([1933])\n",
      "torch.Size([2102])\n",
      "torch.Size([1079])\n"
     ]
    }
   ],
   "source": [
    "for i in loader :\n",
    "    print(i.batch.shape)"
   ]
  },
  {
   "cell_type": "code",
   "execution_count": 42,
   "id": "aca1b387",
   "metadata": {},
   "outputs": [
    {
     "data": {
      "text/plain": [
       "Batch(edge_index=[2, 4042], x=[1079, 3], y=[32], batch=[1079], ptr=[33])"
      ]
     },
     "execution_count": 42,
     "metadata": {},
     "output_type": "execute_result"
    }
   ],
   "source": [
    "i"
   ]
  },
  {
   "cell_type": "code",
   "execution_count": 43,
   "id": "6b7bf6f6",
   "metadata": {},
   "outputs": [
    {
     "data": {
      "text/plain": [
       "tensor([[1., 0., 0.],\n",
       "        [1., 0., 0.],\n",
       "        [1., 0., 0.],\n",
       "        ...,\n",
       "        [0., 1., 0.],\n",
       "        [0., 1., 0.],\n",
       "        [0., 1., 0.]])"
      ]
     },
     "execution_count": 43,
     "metadata": {},
     "output_type": "execute_result"
    }
   ],
   "source": [
    "i.x"
   ]
  },
  {
   "cell_type": "code",
   "execution_count": 44,
   "id": "97646fe9",
   "metadata": {},
   "outputs": [
    {
     "data": {
      "text/plain": [
       "tensor([[   0,    0,    0,  ..., 1078, 1078, 1078],\n",
       "        [   1,    5,    6,  ..., 1062, 1076, 1077]])"
      ]
     },
     "execution_count": 44,
     "metadata": {},
     "output_type": "execute_result"
    }
   ],
   "source": [
    "i.edge_index"
   ]
  },
  {
   "cell_type": "code",
   "execution_count": 45,
   "id": "6564893b",
   "metadata": {},
   "outputs": [
    {
     "data": {
      "text/plain": [
       "['ptr', 'x', 'y', 'edge_index', 'batch']"
      ]
     },
     "execution_count": 45,
     "metadata": {},
     "output_type": "execute_result"
    }
   ],
   "source": [
    "i.keys"
   ]
  },
  {
   "cell_type": "code",
   "execution_count": 46,
   "id": "942ac965",
   "metadata": {},
   "outputs": [
    {
     "data": {
      "text/plain": [
       "tensor([   0,   36,   50,   77,  110,  162,  204,  220,  272,  286,  310,  354,\n",
       "         380,  419,  452,  496,  510,  523,  567,  592,  616,  652,  703,  742,\n",
       "         769,  807,  830,  869,  918,  970, 1018, 1046, 1079])"
      ]
     },
     "execution_count": 46,
     "metadata": {},
     "output_type": "execute_result"
    }
   ],
   "source": [
    "i.ptr"
   ]
  },
  {
   "cell_type": "code",
   "execution_count": 73,
   "id": "2107fb28",
   "metadata": {},
   "outputs": [],
   "source": [
    "dataset = Planetoid(root=\"/tmp/Cora\", name=\"Cora\")"
   ]
  },
  {
   "cell_type": "code",
   "execution_count": 74,
   "id": "e24f7b48",
   "metadata": {},
   "outputs": [
    {
     "data": {
      "text/plain": [
       "1"
      ]
     },
     "execution_count": 74,
     "metadata": {},
     "output_type": "execute_result"
    }
   ],
   "source": [
    "len(dataset)"
   ]
  },
  {
   "cell_type": "code",
   "execution_count": 84,
   "id": "25550216",
   "metadata": {},
   "outputs": [
    {
     "data": {
      "text/plain": [
       "Cora()"
      ]
     },
     "execution_count": 84,
     "metadata": {},
     "output_type": "execute_result"
    }
   ],
   "source": [
    "dataset"
   ]
  },
  {
   "cell_type": "code",
   "execution_count": 85,
   "id": "e68372e2",
   "metadata": {},
   "outputs": [
    {
     "data": {
      "text/plain": [
       "7"
      ]
     },
     "execution_count": 85,
     "metadata": {},
     "output_type": "execute_result"
    }
   ],
   "source": [
    "dataset.num_classes"
   ]
  },
  {
   "cell_type": "code",
   "execution_count": 86,
   "id": "565024d5",
   "metadata": {},
   "outputs": [
    {
     "data": {
      "text/plain": [
       "1433"
      ]
     },
     "execution_count": 86,
     "metadata": {},
     "output_type": "execute_result"
    }
   ],
   "source": [
    "dataset.num_node_features"
   ]
  },
  {
   "cell_type": "code",
   "execution_count": 87,
   "id": "1fd5f07a",
   "metadata": {},
   "outputs": [
    {
     "data": {
      "text/plain": [
       "Data(x=[2708, 1433], edge_index=[2, 10556], y=[2708], train_mask=[2708], val_mask=[2708], test_mask=[2708])"
      ]
     },
     "execution_count": 87,
     "metadata": {},
     "output_type": "execute_result"
    }
   ],
   "source": [
    "dataset[0]"
   ]
  },
  {
   "cell_type": "code",
   "execution_count": 88,
   "id": "e2114647",
   "metadata": {},
   "outputs": [
    {
     "data": {
      "text/plain": [
       "140"
      ]
     },
     "execution_count": 88,
     "metadata": {},
     "output_type": "execute_result"
    }
   ],
   "source": [
    "dataset[0].train_mask.sum().item()"
   ]
  },
  {
   "cell_type": "code",
   "execution_count": 89,
   "id": "5e919fb1",
   "metadata": {},
   "outputs": [
    {
     "data": {
      "text/plain": [
       "torch.Size([2708])"
      ]
     },
     "execution_count": 89,
     "metadata": {},
     "output_type": "execute_result"
    }
   ],
   "source": [
    "dataset[0].train_mask.shape"
   ]
  },
  {
   "cell_type": "code",
   "execution_count": 90,
   "id": "ac3e08fe",
   "metadata": {},
   "outputs": [
    {
     "data": {
      "text/plain": [
       "torch.Size([2708, 1433])"
      ]
     },
     "execution_count": 90,
     "metadata": {},
     "output_type": "execute_result"
    }
   ],
   "source": [
    "dataset[0].x.shape"
   ]
  },
  {
   "cell_type": "code",
   "execution_count": 91,
   "id": "06173d46",
   "metadata": {},
   "outputs": [
    {
     "ename": "IndexError",
     "evalue": "range object index out of range",
     "output_type": "error",
     "traceback": [
      "\u001b[0;31m---------------------------------------------------------------------------\u001b[0m",
      "\u001b[0;31mIndexError\u001b[0m                                Traceback (most recent call last)",
      "\u001b[0;32m/tmp/ipykernel_6344/2767692381.py\u001b[0m in \u001b[0;36m<module>\u001b[0;34m\u001b[0m\n\u001b[0;32m----> 1\u001b[0;31m \u001b[0mdataset\u001b[0m\u001b[0;34m[\u001b[0m\u001b[0;36m1\u001b[0m\u001b[0;34m]\u001b[0m\u001b[0;34m.\u001b[0m\u001b[0mx\u001b[0m\u001b[0;34m.\u001b[0m\u001b[0mshape\u001b[0m\u001b[0;34m\u001b[0m\u001b[0;34m\u001b[0m\u001b[0m\n\u001b[0m",
      "\u001b[0;32m~/miniconda3/envs/graph/lib/python3.8/site-packages/torch_geometric/data/dataset.py\u001b[0m in \u001b[0;36m__getitem__\u001b[0;34m(self, idx)\u001b[0m\n\u001b[1;32m    196\u001b[0m                 or (isinstance(idx, np.ndarray) and np.isscalar(idx))):\n\u001b[1;32m    197\u001b[0m \u001b[0;34m\u001b[0m\u001b[0m\n\u001b[0;32m--> 198\u001b[0;31m             \u001b[0mdata\u001b[0m \u001b[0;34m=\u001b[0m \u001b[0mself\u001b[0m\u001b[0;34m.\u001b[0m\u001b[0mget\u001b[0m\u001b[0;34m(\u001b[0m\u001b[0mself\u001b[0m\u001b[0;34m.\u001b[0m\u001b[0mindices\u001b[0m\u001b[0;34m(\u001b[0m\u001b[0;34m)\u001b[0m\u001b[0;34m[\u001b[0m\u001b[0midx\u001b[0m\u001b[0;34m]\u001b[0m\u001b[0;34m)\u001b[0m\u001b[0;34m\u001b[0m\u001b[0;34m\u001b[0m\u001b[0m\n\u001b[0m\u001b[1;32m    199\u001b[0m             \u001b[0mdata\u001b[0m \u001b[0;34m=\u001b[0m \u001b[0mdata\u001b[0m \u001b[0;32mif\u001b[0m \u001b[0mself\u001b[0m\u001b[0;34m.\u001b[0m\u001b[0mtransform\u001b[0m \u001b[0;32mis\u001b[0m \u001b[0;32mNone\u001b[0m \u001b[0;32melse\u001b[0m \u001b[0mself\u001b[0m\u001b[0;34m.\u001b[0m\u001b[0mtransform\u001b[0m\u001b[0;34m(\u001b[0m\u001b[0mdata\u001b[0m\u001b[0;34m)\u001b[0m\u001b[0;34m\u001b[0m\u001b[0;34m\u001b[0m\u001b[0m\n\u001b[1;32m    200\u001b[0m             \u001b[0;32mreturn\u001b[0m \u001b[0mdata\u001b[0m\u001b[0;34m\u001b[0m\u001b[0;34m\u001b[0m\u001b[0m\n",
      "\u001b[0;31mIndexError\u001b[0m: range object index out of range"
     ]
    }
   ],
   "source": [
    "dataset[1].x.shape"
   ]
  },
  {
   "cell_type": "code",
   "execution_count": 93,
   "id": "8b22545e",
   "metadata": {},
   "outputs": [
    {
     "data": {
      "text/plain": [
       "torch.Size([2708])"
      ]
     },
     "execution_count": 93,
     "metadata": {},
     "output_type": "execute_result"
    }
   ],
   "source": [
    "dataset[0].y.shape"
   ]
  },
  {
   "cell_type": "code",
   "execution_count": 96,
   "id": "5eed5337",
   "metadata": {},
   "outputs": [
    {
     "name": "stdout",
     "output_type": "stream",
     "text": [
      "1\n",
      "Batch(x=[2708, 1433], edge_index=[2, 10556], y=[2708], train_mask=[2708], val_mask=[2708], test_mask=[2708], batch=[2708], ptr=[2])\n"
     ]
    }
   ],
   "source": [
    "node_loader = DataLoader(dataset, batch_size=32, shuffle=True)\n",
    "\n",
    "for batch in node_loader:\n",
    "    print(batch.num_graphs)\n",
    "    print(batch)\n"
   ]
  },
  {
   "cell_type": "code",
   "execution_count": 98,
   "id": "6d632663",
   "metadata": {},
   "outputs": [
    {
     "name": "stdout",
     "output_type": "stream",
     "text": [
      "32\n",
      "32\n",
      "32\n",
      "32\n",
      "32\n",
      "32\n",
      "32\n",
      "32\n",
      "32\n",
      "32\n",
      "32\n",
      "32\n",
      "32\n",
      "32\n",
      "32\n",
      "32\n",
      "32\n",
      "32\n",
      "24\n"
     ]
    }
   ],
   "source": [
    "from torch_geometric.datasets import TUDataset\n",
    "from torch_geometric.loader import DataLoader\n",
    "\n",
    "\n",
    "dataset = TUDataset(root=\"/tmp/ENZYMES\", name=\"ENZYMES\", use_node_attr=True)\n",
    "loader = DataLoader(dataset, batch_size=32, shuffle=True)\n",
    "\n",
    "for batch in loader:\n",
    "    print(batch.num_graphs)\n"
   ]
  },
  {
   "cell_type": "code",
   "execution_count": 99,
   "id": "12700cbb",
   "metadata": {},
   "outputs": [
    {
     "data": {
      "text/plain": [
       "Batch(edge_index=[2, 3126], x=[797, 21], y=[24], batch=[797], ptr=[25])"
      ]
     },
     "execution_count": 99,
     "metadata": {},
     "output_type": "execute_result"
    }
   ],
   "source": [
    "batch"
   ]
  },
  {
   "cell_type": "code",
   "execution_count": 100,
   "id": "f978483b",
   "metadata": {},
   "outputs": [
    {
     "name": "stdout",
     "output_type": "stream",
     "text": [
      "tensor([1.4000e+01, 2.0221e+01, 6.3670e+01, 5.0000e-02, 2.9700e+00, 1.1830e+02,\n",
      "        3.0000e+00, 4.0000e+00, 7.0000e+00, 6.0000e+00, 4.0000e+00, 4.0000e+00,\n",
      "        5.0000e+00, 3.0000e+00, 6.0000e+00, 2.0000e+00, 5.0000e+00, 7.0000e+00,\n",
      "        1.0000e+00, 0.0000e+00, 0.0000e+00]) tensor([0, 3, 0, 2, 4, 4, 3, 1, 3, 2, 3, 2, 0, 4, 0, 4, 4, 1, 1, 4, 0, 3, 3, 5])\n"
     ]
    }
   ],
   "source": [
    "print(batch.x[0, :], batch.y)"
   ]
  },
  {
   "cell_type": "code",
   "execution_count": 104,
   "id": "1e336b2b",
   "metadata": {},
   "outputs": [
    {
     "name": "stdout",
     "output_type": "stream",
     "text": [
      "torch.Size([24]) torch.Size([797, 21])\n"
     ]
    }
   ],
   "source": [
    "print(batch.y.shape, batch.x.shape)\n"
   ]
  },
  {
   "cell_type": "code",
   "execution_count": 105,
   "id": "d6dff9f4",
   "metadata": {},
   "outputs": [
    {
     "data": {
      "text/plain": [
       "tensor([ 0,  0,  0,  0,  0,  0,  0,  0,  0,  0,  0,  0,  0,  0,  0,  0,  0,  0,\n",
       "         0,  0,  0,  0,  0,  0,  1,  1,  1,  1,  1,  1,  1,  1,  1,  1,  1,  1,\n",
       "         1,  1,  1,  1,  1,  1,  1,  1,  1,  1,  1,  1,  1,  1,  1,  1,  1,  1,\n",
       "         1,  1,  1,  1,  1,  1,  1,  1,  1,  1,  1,  1,  1,  1,  1,  1,  1,  1,\n",
       "         1,  1,  1,  1,  1,  1,  1,  1,  1,  2,  2,  2,  2,  2,  2,  2,  2,  2,\n",
       "         2,  2,  2,  2,  2,  2,  2,  2,  2,  2,  2,  2,  2,  2,  2,  3,  3,  3,\n",
       "         3,  3,  3,  3,  3,  3,  3,  3,  3,  3,  3,  3,  3,  3,  3,  3,  3,  3,\n",
       "         3,  3,  3,  3,  3,  4,  4,  4,  4,  4,  4,  4,  4,  4,  4,  4,  4,  4,\n",
       "         4,  4,  4,  4,  4,  4,  4,  4,  4,  4,  4,  4,  4,  4,  4,  4,  4,  4,\n",
       "         4,  4,  4,  4,  4,  4,  4,  4,  4,  4,  4,  5,  5,  5,  5,  5,  5,  5,\n",
       "         5,  5,  5,  5,  5,  5,  5,  5,  5,  5,  5,  5,  5,  5,  5,  6,  6,  6,\n",
       "         6,  6,  6,  6,  6,  6,  6,  6,  6,  6,  6,  6,  6,  6,  6,  6,  6,  6,\n",
       "         6,  6,  6,  6,  6,  6,  6,  6,  6,  6,  6,  6,  6,  6,  7,  7,  7,  7,\n",
       "         7,  7,  7,  7,  7,  7,  7,  7,  7,  7,  7,  7,  7,  7,  7,  7,  8,  8,\n",
       "         8,  8,  8,  8,  8,  8,  8,  8,  8,  8,  8,  8,  8,  8,  8,  8,  8,  8,\n",
       "         8,  8,  8,  8,  8,  8,  8,  8,  8,  8,  9,  9,  9,  9,  9,  9,  9,  9,\n",
       "         9,  9,  9,  9, 10, 10, 10, 10, 10, 10, 10, 10, 10, 10, 10, 10, 10, 10,\n",
       "        10, 10, 10, 10, 10, 10, 10, 11, 11, 11, 11, 11, 11, 11, 11, 11, 11, 11,\n",
       "        11, 11, 11, 11, 11, 11, 11, 11, 11, 11, 11, 11, 11, 12, 12, 12, 12, 12,\n",
       "        12, 12, 12, 12, 12, 12, 12, 12, 12, 12, 12, 12, 12, 12, 12, 12, 12, 12,\n",
       "        12, 13, 13, 13, 13, 13, 13, 13, 13, 13, 13, 13, 13, 13, 13, 13, 13, 13,\n",
       "        13, 13, 13, 13, 13, 13, 13, 13, 13, 13, 13, 13, 13, 13, 13, 13, 13, 13,\n",
       "        13, 13, 13, 13, 13, 13, 13, 13, 13, 13, 13, 13, 13, 14, 14, 14, 14, 14,\n",
       "        14, 14, 14, 14, 14, 14, 14, 14, 14, 14, 14, 14, 14, 14, 14, 14, 15, 15,\n",
       "        15, 15, 15, 15, 15, 15, 15, 15, 15, 15, 15, 15, 15, 15, 15, 15, 15, 15,\n",
       "        15, 15, 15, 15, 15, 15, 15, 15, 15, 15, 15, 15, 15, 15, 15, 15, 15, 15,\n",
       "        15, 15, 15, 15, 15, 15, 15, 15, 15, 15, 15, 15, 15, 15, 15, 15, 15, 16,\n",
       "        16, 16, 16, 16, 16, 16, 16, 16, 16, 16, 16, 16, 16, 16, 16, 16, 16, 16,\n",
       "        16, 16, 16, 16, 16, 16, 16, 16, 16, 16, 16, 16, 16, 16, 16, 16, 16, 16,\n",
       "        16, 16, 16, 16, 17, 17, 17, 17, 17, 17, 17, 17, 17, 17, 17, 17, 17, 17,\n",
       "        17, 17, 17, 17, 17, 17, 17, 17, 17, 17, 17, 17, 17, 17, 18, 18, 18, 18,\n",
       "        18, 18, 18, 18, 18, 18, 18, 18, 18, 18, 18, 18, 18, 18, 18, 18, 18, 18,\n",
       "        18, 18, 18, 18, 19, 19, 19, 19, 19, 19, 19, 19, 19, 19, 19, 19, 19, 19,\n",
       "        19, 19, 19, 19, 19, 19, 19, 19, 19, 19, 19, 19, 19, 19, 19, 19, 19, 19,\n",
       "        19, 19, 19, 19, 19, 19, 19, 19, 19, 19, 19, 20, 20, 20, 20, 20, 20, 20,\n",
       "        20, 20, 20, 20, 20, 20, 20, 20, 20, 20, 20, 20, 20, 20, 20, 20, 20, 20,\n",
       "        20, 20, 20, 20, 20, 20, 20, 21, 21, 21, 21, 21, 21, 21, 21, 21, 21, 21,\n",
       "        21, 21, 21, 21, 21, 21, 21, 21, 21, 21, 21, 21, 21, 21, 21, 21, 21, 21,\n",
       "        21, 21, 21, 21, 21, 21, 21, 21, 21, 21, 21, 21, 21, 21, 21, 21, 21, 21,\n",
       "        21, 22, 22, 22, 22, 22, 22, 22, 22, 22, 22, 22, 22, 22, 22, 22, 22, 22,\n",
       "        22, 22, 22, 22, 22, 22, 22, 22, 22, 22, 22, 22, 22, 22, 22, 22, 22, 22,\n",
       "        22, 22, 22, 22, 22, 22, 22, 22, 22, 22, 22, 22, 22, 22, 22, 22, 22, 23,\n",
       "        23, 23, 23, 23, 23, 23, 23, 23, 23, 23, 23, 23, 23, 23, 23, 23, 23, 23,\n",
       "        23, 23, 23, 23, 23, 23, 23, 23, 23, 23, 23, 23, 23, 23, 23, 23, 23, 23,\n",
       "        23, 23, 23, 23, 23])"
      ]
     },
     "execution_count": 105,
     "metadata": {},
     "output_type": "execute_result"
    }
   ],
   "source": [
    "batch.batch"
   ]
  },
  {
   "cell_type": "code",
   "execution_count": null,
   "id": "06e6ccc2",
   "metadata": {},
   "outputs": [],
   "source": []
  }
 ],
 "metadata": {
  "kernelspec": {
   "display_name": "Python 3 (ipykernel)",
   "language": "python",
   "name": "python3"
  },
  "language_info": {
   "codemirror_mode": {
    "name": "ipython",
    "version": 3
   },
   "file_extension": ".py",
   "mimetype": "text/x-python",
   "name": "python",
   "nbconvert_exporter": "python",
   "pygments_lexer": "ipython3",
   "version": "3.8.11"
  }
 },
 "nbformat": 4,
 "nbformat_minor": 5
}
